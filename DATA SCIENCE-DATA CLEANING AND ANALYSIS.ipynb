{
 "cells": [
  {
   "cell_type": "markdown",
   "id": "e36b6def",
   "metadata": {},
   "source": [
    "### DATA CLEANING AND ANALYSIS"
   ]
  },
  {
   "cell_type": "markdown",
   "id": "92e8cd68",
   "metadata": {},
   "source": [
    "- Project Background Information.\n",
    "\n",
    "- Every ten years, the United Kingdom undertakes a census of the population, with the most recent one having been conducted in 2021. The purpose of such a census is to compare different people across the nation and to provide the government with accurate statistics of the population to enable better planning, to develop policies, and to allocate certain funding. In the project, you will be provided with a mock census of an imaginary modest town. I would like you to consider yourselves to be part of a local government team who will be making decisions on what to do with anunoccupied plot of land and what to invest in. To address these questions, you will need to clean and analyse the mock census data provided"
   ]
  },
  {
   "cell_type": "markdown",
   "id": "9ba8e308",
   "metadata": {},
   "source": [
    "### Import the basic python libraries and loading the csv file\n"
   ]
  },
  {
   "cell_type": "code",
   "execution_count": 1,
   "id": "4766363f",
   "metadata": {},
   "outputs": [],
   "source": [
    "# Import the basic python libraries\n",
    "import csv\n",
    "import numpy as np # for numerical computing\n",
    "import pandas as pd # for loading the data set and carrying out vital analysis\n",
    "import matplotlib.pyplot as plt # for plotting\n",
    "import seaborn as sns # for plotting"
   ]
  },
  {
   "cell_type": "code",
   "execution_count": 2,
   "id": "50c73c33",
   "metadata": {},
   "outputs": [],
   "source": [
    "# Loading the csv file\n",
    "census10_df = pd.read_csv('census10.csv')"
   ]
  },
  {
   "cell_type": "markdown",
   "id": "c0d71398",
   "metadata": {},
   "source": [
    "### Running checks on the CSV file"
   ]
  },
  {
   "cell_type": "code",
   "execution_count": 3,
   "id": "a71456d5",
   "metadata": {},
   "outputs": [
    {
     "data": {
      "text/html": [
       "<div>\n",
       "<style scoped>\n",
       "    .dataframe tbody tr th:only-of-type {\n",
       "        vertical-align: middle;\n",
       "    }\n",
       "\n",
       "    .dataframe tbody tr th {\n",
       "        vertical-align: top;\n",
       "    }\n",
       "\n",
       "    .dataframe thead th {\n",
       "        text-align: right;\n",
       "    }\n",
       "</style>\n",
       "<table border=\"1\" class=\"dataframe\">\n",
       "  <thead>\n",
       "    <tr style=\"text-align: right;\">\n",
       "      <th></th>\n",
       "      <th>House Number</th>\n",
       "      <th>Street</th>\n",
       "      <th>First Name</th>\n",
       "      <th>Surname</th>\n",
       "      <th>Age</th>\n",
       "      <th>Relationship to Head of House</th>\n",
       "      <th>Marital Status</th>\n",
       "      <th>Gender</th>\n",
       "      <th>Occupation</th>\n",
       "      <th>Infirmity</th>\n",
       "      <th>Religion</th>\n",
       "    </tr>\n",
       "  </thead>\n",
       "  <tbody>\n",
       "    <tr>\n",
       "      <th>0</th>\n",
       "      <td>1</td>\n",
       "      <td>Upland Creek</td>\n",
       "      <td>Ross</td>\n",
       "      <td>Barton</td>\n",
       "      <td>26.0</td>\n",
       "      <td>Head</td>\n",
       "      <td>Married</td>\n",
       "      <td>Male</td>\n",
       "      <td>Solicitor, Scotland</td>\n",
       "      <td>None</td>\n",
       "      <td>Christian</td>\n",
       "    </tr>\n",
       "    <tr>\n",
       "      <th>1</th>\n",
       "      <td>1</td>\n",
       "      <td>Upland Creek</td>\n",
       "      <td>Amelia</td>\n",
       "      <td>Barton</td>\n",
       "      <td>26.0</td>\n",
       "      <td>Wife</td>\n",
       "      <td>Married</td>\n",
       "      <td>Female</td>\n",
       "      <td>Lawyer</td>\n",
       "      <td>None</td>\n",
       "      <td>None</td>\n",
       "    </tr>\n",
       "    <tr>\n",
       "      <th>2</th>\n",
       "      <td>2</td>\n",
       "      <td>Upland Creek</td>\n",
       "      <td>Francesca</td>\n",
       "      <td>Smith</td>\n",
       "      <td>50.0</td>\n",
       "      <td>Head</td>\n",
       "      <td>Married</td>\n",
       "      <td>Female</td>\n",
       "      <td>Unemployed</td>\n",
       "      <td>None</td>\n",
       "      <td>None</td>\n",
       "    </tr>\n",
       "    <tr>\n",
       "      <th>3</th>\n",
       "      <td>2</td>\n",
       "      <td>Upland Creek</td>\n",
       "      <td>Connor</td>\n",
       "      <td>Smith</td>\n",
       "      <td>53.0</td>\n",
       "      <td>Husband</td>\n",
       "      <td>Married</td>\n",
       "      <td>Male</td>\n",
       "      <td>Unemployed</td>\n",
       "      <td></td>\n",
       "      <td>None</td>\n",
       "    </tr>\n",
       "    <tr>\n",
       "      <th>4</th>\n",
       "      <td>2</td>\n",
       "      <td>Upland Creek</td>\n",
       "      <td>Jacob</td>\n",
       "      <td>Smith</td>\n",
       "      <td>15.0</td>\n",
       "      <td>Adopted Son</td>\n",
       "      <td>NaN</td>\n",
       "      <td>Male</td>\n",
       "      <td>Student</td>\n",
       "      <td>None</td>\n",
       "      <td>NaN</td>\n",
       "    </tr>\n",
       "  </tbody>\n",
       "</table>\n",
       "</div>"
      ],
      "text/plain": [
       "   House Number        Street First Name Surname   Age  \\\n",
       "0             1  Upland Creek       Ross  Barton  26.0   \n",
       "1             1  Upland Creek     Amelia  Barton  26.0   \n",
       "2             2  Upland Creek  Francesca   Smith  50.0   \n",
       "3             2  Upland Creek     Connor   Smith  53.0   \n",
       "4             2  Upland Creek      Jacob   Smith  15.0   \n",
       "\n",
       "  Relationship to Head of House Marital Status  Gender           Occupation  \\\n",
       "0                          Head        Married    Male  Solicitor, Scotland   \n",
       "1                          Wife        Married  Female               Lawyer   \n",
       "2                          Head        Married  Female           Unemployed   \n",
       "3                       Husband        Married    Male           Unemployed   \n",
       "4                   Adopted Son            NaN    Male              Student   \n",
       "\n",
       "  Infirmity   Religion  \n",
       "0      None  Christian  \n",
       "1      None       None  \n",
       "2      None       None  \n",
       "3                 None  \n",
       "4      None        NaN  "
      ]
     },
     "execution_count": 3,
     "metadata": {},
     "output_type": "execute_result"
    }
   ],
   "source": [
    "# checking the first 5 rows\n",
    "census10_df.head()\n"
   ]
  },
  {
   "cell_type": "code",
   "execution_count": 4,
   "id": "ecc33684",
   "metadata": {},
   "outputs": [
    {
     "data": {
      "text/html": [
       "<div>\n",
       "<style scoped>\n",
       "    .dataframe tbody tr th:only-of-type {\n",
       "        vertical-align: middle;\n",
       "    }\n",
       "\n",
       "    .dataframe tbody tr th {\n",
       "        vertical-align: top;\n",
       "    }\n",
       "\n",
       "    .dataframe thead th {\n",
       "        text-align: right;\n",
       "    }\n",
       "</style>\n",
       "<table border=\"1\" class=\"dataframe\">\n",
       "  <thead>\n",
       "    <tr style=\"text-align: right;\">\n",
       "      <th></th>\n",
       "      <th>House Number</th>\n",
       "      <th>Street</th>\n",
       "      <th>First Name</th>\n",
       "      <th>Surname</th>\n",
       "      <th>Age</th>\n",
       "      <th>Relationship to Head of House</th>\n",
       "      <th>Marital Status</th>\n",
       "      <th>Gender</th>\n",
       "      <th>Occupation</th>\n",
       "      <th>Infirmity</th>\n",
       "      <th>Religion</th>\n",
       "    </tr>\n",
       "  </thead>\n",
       "  <tbody>\n",
       "    <tr>\n",
       "      <th>7906</th>\n",
       "      <td>1</td>\n",
       "      <td>Murphy Fortress</td>\n",
       "      <td>Sophie</td>\n",
       "      <td>Collier</td>\n",
       "      <td>7.0</td>\n",
       "      <td>Daughter</td>\n",
       "      <td>NaN</td>\n",
       "      <td>Female</td>\n",
       "      <td>Student</td>\n",
       "      <td>None</td>\n",
       "      <td>NaN</td>\n",
       "    </tr>\n",
       "    <tr>\n",
       "      <th>7907</th>\n",
       "      <td>1</td>\n",
       "      <td>Murphy Fortress</td>\n",
       "      <td>Paul</td>\n",
       "      <td>Collier</td>\n",
       "      <td>7.0</td>\n",
       "      <td>Son</td>\n",
       "      <td>NaN</td>\n",
       "      <td>Male</td>\n",
       "      <td>Student</td>\n",
       "      <td>None</td>\n",
       "      <td>NaN</td>\n",
       "    </tr>\n",
       "    <tr>\n",
       "      <th>7908</th>\n",
       "      <td>1</td>\n",
       "      <td>Murphy Fortress</td>\n",
       "      <td>Rhys</td>\n",
       "      <td>Collier</td>\n",
       "      <td>3.0</td>\n",
       "      <td>Son</td>\n",
       "      <td>NaN</td>\n",
       "      <td>Male</td>\n",
       "      <td>Child</td>\n",
       "      <td>None</td>\n",
       "      <td>NaN</td>\n",
       "    </tr>\n",
       "    <tr>\n",
       "      <th>7909</th>\n",
       "      <td>1</td>\n",
       "      <td>Murphy Fortress</td>\n",
       "      <td>Jeffrey</td>\n",
       "      <td>Short</td>\n",
       "      <td>58.0</td>\n",
       "      <td>Visitor</td>\n",
       "      <td>Divorced</td>\n",
       "      <td>Male</td>\n",
       "      <td>Engineer, automotive</td>\n",
       "      <td>None</td>\n",
       "      <td>None</td>\n",
       "    </tr>\n",
       "    <tr>\n",
       "      <th>7910</th>\n",
       "      <td>1</td>\n",
       "      <td>Murphy Fortress</td>\n",
       "      <td>Carl</td>\n",
       "      <td>Johnson</td>\n",
       "      <td>52.0</td>\n",
       "      <td>Lodger</td>\n",
       "      <td>Divorced</td>\n",
       "      <td>Male</td>\n",
       "      <td>Medical sales representative</td>\n",
       "      <td>None</td>\n",
       "      <td>Christian</td>\n",
       "    </tr>\n",
       "  </tbody>\n",
       "</table>\n",
       "</div>"
      ],
      "text/plain": [
       "      House Number           Street First Name  Surname   Age  \\\n",
       "7906             1  Murphy Fortress     Sophie  Collier   7.0   \n",
       "7907             1  Murphy Fortress       Paul  Collier   7.0   \n",
       "7908             1  Murphy Fortress       Rhys  Collier   3.0   \n",
       "7909             1  Murphy Fortress    Jeffrey    Short  58.0   \n",
       "7910             1  Murphy Fortress       Carl  Johnson  52.0   \n",
       "\n",
       "     Relationship to Head of House Marital Status  Gender  \\\n",
       "7906                      Daughter            NaN  Female   \n",
       "7907                           Son            NaN    Male   \n",
       "7908                           Son            NaN    Male   \n",
       "7909                       Visitor       Divorced    Male   \n",
       "7910                        Lodger       Divorced    Male   \n",
       "\n",
       "                        Occupation Infirmity   Religion  \n",
       "7906                       Student      None        NaN  \n",
       "7907                       Student      None        NaN  \n",
       "7908                         Child      None        NaN  \n",
       "7909          Engineer, automotive      None       None  \n",
       "7910  Medical sales representative      None  Christian  "
      ]
     },
     "execution_count": 4,
     "metadata": {},
     "output_type": "execute_result"
    }
   ],
   "source": [
    "# checking the last 5 rows\n",
    "census10_df.tail()\n"
   ]
  },
  {
   "cell_type": "code",
   "execution_count": 5,
   "id": "e1a2e039",
   "metadata": {},
   "outputs": [
    {
     "data": {
      "text/plain": [
       "(7911, 11)"
      ]
     },
     "execution_count": 5,
     "metadata": {},
     "output_type": "execute_result"
    }
   ],
   "source": [
    "census10_df.shape # to confirm the number of rows and column"
   ]
  },
  {
   "cell_type": "markdown",
   "id": "5cbdd7d2",
   "metadata": {},
   "source": [
    "##### Checks for missing rows and duplicates"
   ]
  },
  {
   "cell_type": "code",
   "execution_count": 6,
   "id": "7cdec934",
   "metadata": {},
   "outputs": [
    {
     "name": "stdout",
     "output_type": "stream",
     "text": [
      "<class 'pandas.core.frame.DataFrame'>\n",
      "RangeIndex: 7911 entries, 0 to 7910\n",
      "Data columns (total 11 columns):\n",
      " #   Column                         Non-Null Count  Dtype  \n",
      "---  ------                         --------------  -----  \n",
      " 0   House Number                   7911 non-null   int64  \n",
      " 1   Street                         7911 non-null   object \n",
      " 2   First Name                     7911 non-null   object \n",
      " 3   Surname                        7911 non-null   object \n",
      " 4   Age                            7911 non-null   float64\n",
      " 5   Relationship to Head of House  7911 non-null   object \n",
      " 6   Marital Status                 5944 non-null   object \n",
      " 7   Gender                         7911 non-null   object \n",
      " 8   Occupation                     7911 non-null   object \n",
      " 9   Infirmity                      7911 non-null   object \n",
      " 10  Religion                       5895 non-null   object \n",
      "dtypes: float64(1), int64(1), object(9)\n",
      "memory usage: 680.0+ KB\n"
     ]
    }
   ],
   "source": [
    "census10_df.info()"
   ]
  },
  {
   "cell_type": "markdown",
   "id": "121b4bbb",
   "metadata": {},
   "source": [
    "- 2 columns (Religion and Marital Status) have missing rows\n",
    "- 9 columns have object data type, 1 column (Age) has float data type and 1 column(House Number) has integer data type\n",
    "- There are total of 7911 rows and 11 columns"
   ]
  },
  {
   "cell_type": "code",
   "execution_count": 7,
   "id": "1f28bc8e",
   "metadata": {},
   "outputs": [
    {
     "data": {
      "text/plain": [
       "2016"
      ]
     },
     "execution_count": 7,
     "metadata": {},
     "output_type": "execute_result"
    }
   ],
   "source": [
    "census10_df['Religion'].isnull().sum() # to confirm the number of missing rows"
   ]
  },
  {
   "cell_type": "code",
   "execution_count": 8,
   "id": "5a600843",
   "metadata": {},
   "outputs": [
    {
     "data": {
      "text/plain": [
       "1967"
      ]
     },
     "execution_count": 8,
     "metadata": {},
     "output_type": "execute_result"
    }
   ],
   "source": [
    "census10_df['Marital Status'].isnull().sum() # to confirm the number of missing rows"
   ]
  },
  {
   "cell_type": "code",
   "execution_count": 9,
   "id": "ad1ed21f",
   "metadata": {},
   "outputs": [
    {
     "data": {
      "text/html": [
       "<div>\n",
       "<style scoped>\n",
       "    .dataframe tbody tr th:only-of-type {\n",
       "        vertical-align: middle;\n",
       "    }\n",
       "\n",
       "    .dataframe tbody tr th {\n",
       "        vertical-align: top;\n",
       "    }\n",
       "\n",
       "    .dataframe thead th {\n",
       "        text-align: right;\n",
       "    }\n",
       "</style>\n",
       "<table border=\"1\" class=\"dataframe\">\n",
       "  <thead>\n",
       "    <tr style=\"text-align: right;\">\n",
       "      <th></th>\n",
       "      <th>House Number</th>\n",
       "      <th>Street</th>\n",
       "      <th>First Name</th>\n",
       "      <th>Surname</th>\n",
       "      <th>Age</th>\n",
       "      <th>Relationship to Head of House</th>\n",
       "      <th>Marital Status</th>\n",
       "      <th>Gender</th>\n",
       "      <th>Occupation</th>\n",
       "      <th>Infirmity</th>\n",
       "      <th>Religion</th>\n",
       "    </tr>\n",
       "  </thead>\n",
       "  <tbody>\n",
       "    <tr>\n",
       "      <th>0</th>\n",
       "      <td>False</td>\n",
       "      <td>False</td>\n",
       "      <td>False</td>\n",
       "      <td>False</td>\n",
       "      <td>False</td>\n",
       "      <td>False</td>\n",
       "      <td>False</td>\n",
       "      <td>False</td>\n",
       "      <td>False</td>\n",
       "      <td>False</td>\n",
       "      <td>False</td>\n",
       "    </tr>\n",
       "    <tr>\n",
       "      <th>1</th>\n",
       "      <td>False</td>\n",
       "      <td>False</td>\n",
       "      <td>False</td>\n",
       "      <td>False</td>\n",
       "      <td>False</td>\n",
       "      <td>False</td>\n",
       "      <td>False</td>\n",
       "      <td>False</td>\n",
       "      <td>False</td>\n",
       "      <td>False</td>\n",
       "      <td>False</td>\n",
       "    </tr>\n",
       "    <tr>\n",
       "      <th>2</th>\n",
       "      <td>False</td>\n",
       "      <td>False</td>\n",
       "      <td>False</td>\n",
       "      <td>False</td>\n",
       "      <td>False</td>\n",
       "      <td>False</td>\n",
       "      <td>False</td>\n",
       "      <td>False</td>\n",
       "      <td>False</td>\n",
       "      <td>False</td>\n",
       "      <td>False</td>\n",
       "    </tr>\n",
       "    <tr>\n",
       "      <th>3</th>\n",
       "      <td>False</td>\n",
       "      <td>False</td>\n",
       "      <td>False</td>\n",
       "      <td>False</td>\n",
       "      <td>False</td>\n",
       "      <td>False</td>\n",
       "      <td>False</td>\n",
       "      <td>False</td>\n",
       "      <td>False</td>\n",
       "      <td>False</td>\n",
       "      <td>False</td>\n",
       "    </tr>\n",
       "    <tr>\n",
       "      <th>4</th>\n",
       "      <td>False</td>\n",
       "      <td>False</td>\n",
       "      <td>False</td>\n",
       "      <td>False</td>\n",
       "      <td>False</td>\n",
       "      <td>False</td>\n",
       "      <td>True</td>\n",
       "      <td>False</td>\n",
       "      <td>False</td>\n",
       "      <td>False</td>\n",
       "      <td>True</td>\n",
       "    </tr>\n",
       "    <tr>\n",
       "      <th>...</th>\n",
       "      <td>...</td>\n",
       "      <td>...</td>\n",
       "      <td>...</td>\n",
       "      <td>...</td>\n",
       "      <td>...</td>\n",
       "      <td>...</td>\n",
       "      <td>...</td>\n",
       "      <td>...</td>\n",
       "      <td>...</td>\n",
       "      <td>...</td>\n",
       "      <td>...</td>\n",
       "    </tr>\n",
       "    <tr>\n",
       "      <th>7906</th>\n",
       "      <td>False</td>\n",
       "      <td>False</td>\n",
       "      <td>False</td>\n",
       "      <td>False</td>\n",
       "      <td>False</td>\n",
       "      <td>False</td>\n",
       "      <td>True</td>\n",
       "      <td>False</td>\n",
       "      <td>False</td>\n",
       "      <td>False</td>\n",
       "      <td>True</td>\n",
       "    </tr>\n",
       "    <tr>\n",
       "      <th>7907</th>\n",
       "      <td>False</td>\n",
       "      <td>False</td>\n",
       "      <td>False</td>\n",
       "      <td>False</td>\n",
       "      <td>False</td>\n",
       "      <td>False</td>\n",
       "      <td>True</td>\n",
       "      <td>False</td>\n",
       "      <td>False</td>\n",
       "      <td>False</td>\n",
       "      <td>True</td>\n",
       "    </tr>\n",
       "    <tr>\n",
       "      <th>7908</th>\n",
       "      <td>False</td>\n",
       "      <td>False</td>\n",
       "      <td>False</td>\n",
       "      <td>False</td>\n",
       "      <td>False</td>\n",
       "      <td>False</td>\n",
       "      <td>True</td>\n",
       "      <td>False</td>\n",
       "      <td>False</td>\n",
       "      <td>False</td>\n",
       "      <td>True</td>\n",
       "    </tr>\n",
       "    <tr>\n",
       "      <th>7909</th>\n",
       "      <td>False</td>\n",
       "      <td>False</td>\n",
       "      <td>False</td>\n",
       "      <td>False</td>\n",
       "      <td>False</td>\n",
       "      <td>False</td>\n",
       "      <td>False</td>\n",
       "      <td>False</td>\n",
       "      <td>False</td>\n",
       "      <td>False</td>\n",
       "      <td>False</td>\n",
       "    </tr>\n",
       "    <tr>\n",
       "      <th>7910</th>\n",
       "      <td>False</td>\n",
       "      <td>False</td>\n",
       "      <td>False</td>\n",
       "      <td>False</td>\n",
       "      <td>False</td>\n",
       "      <td>False</td>\n",
       "      <td>False</td>\n",
       "      <td>False</td>\n",
       "      <td>False</td>\n",
       "      <td>False</td>\n",
       "      <td>False</td>\n",
       "    </tr>\n",
       "  </tbody>\n",
       "</table>\n",
       "<p>7911 rows × 11 columns</p>\n",
       "</div>"
      ],
      "text/plain": [
       "      House Number  Street  First Name  Surname    Age  \\\n",
       "0            False   False       False    False  False   \n",
       "1            False   False       False    False  False   \n",
       "2            False   False       False    False  False   \n",
       "3            False   False       False    False  False   \n",
       "4            False   False       False    False  False   \n",
       "...            ...     ...         ...      ...    ...   \n",
       "7906         False   False       False    False  False   \n",
       "7907         False   False       False    False  False   \n",
       "7908         False   False       False    False  False   \n",
       "7909         False   False       False    False  False   \n",
       "7910         False   False       False    False  False   \n",
       "\n",
       "      Relationship to Head of House  Marital Status  Gender  Occupation  \\\n",
       "0                             False           False   False       False   \n",
       "1                             False           False   False       False   \n",
       "2                             False           False   False       False   \n",
       "3                             False           False   False       False   \n",
       "4                             False            True   False       False   \n",
       "...                             ...             ...     ...         ...   \n",
       "7906                          False            True   False       False   \n",
       "7907                          False            True   False       False   \n",
       "7908                          False            True   False       False   \n",
       "7909                          False           False   False       False   \n",
       "7910                          False           False   False       False   \n",
       "\n",
       "      Infirmity  Religion  \n",
       "0         False     False  \n",
       "1         False     False  \n",
       "2         False     False  \n",
       "3         False     False  \n",
       "4         False      True  \n",
       "...         ...       ...  \n",
       "7906      False      True  \n",
       "7907      False      True  \n",
       "7908      False      True  \n",
       "7909      False     False  \n",
       "7910      False     False  \n",
       "\n",
       "[7911 rows x 11 columns]"
      ]
     },
     "execution_count": 9,
     "metadata": {},
     "output_type": "execute_result"
    }
   ],
   "source": [
    "# checking for row with missing data\n",
    "census10_df.isnull()"
   ]
  },
  {
   "cell_type": "markdown",
   "id": "8e704b70",
   "metadata": {},
   "source": [
    "- The column for Religion has 2016 missing rows while the column for Marital Status has 1967 missing rows"
   ]
  },
  {
   "cell_type": "code",
   "execution_count": 10,
   "id": "472eeaaf",
   "metadata": {},
   "outputs": [
    {
     "data": {
      "text/plain": [
       "1"
      ]
     },
     "execution_count": 10,
     "metadata": {},
     "output_type": "execute_result"
    }
   ],
   "source": [
    "census10_df.duplicated().sum() # to check for duplicates"
   ]
  },
  {
   "cell_type": "markdown",
   "id": "c7af2a00",
   "metadata": {},
   "source": [
    "- The file has 1 duplicate row"
   ]
  },
  {
   "cell_type": "code",
   "execution_count": null,
   "id": "c57455a4",
   "metadata": {},
   "outputs": [],
   "source": []
  },
  {
   "cell_type": "markdown",
   "id": "851ccb8d",
   "metadata": {},
   "source": [
    "##### Checking through each column for empty strings and uniqueness"
   ]
  },
  {
   "cell_type": "code",
   "execution_count": 11,
   "id": "cb6046a7",
   "metadata": {},
   "outputs": [
    {
     "name": "stdout",
     "output_type": "stream",
     "text": [
      "Columns with empty row: ['First Name', 'Surname', 'Gender', 'Occupation', 'Infirmity']\n",
      "Number of empty rows in 'First Name': 2\n",
      "Number of empty rows in 'Surname': 1\n",
      "Number of empty rows in 'Gender': 1\n",
      "Number of empty rows in 'Occupation': 2\n",
      "Number of empty rows in 'Infirmity': 11\n"
     ]
    }
   ],
   "source": [
    "# Checking for empty strings within rows in  the given columns\n",
    "empty_strings_columns = census10_df.applymap(lambda x: isinstance(x, str) and x.strip() == '').any()\n",
    "\n",
    "# print the columns with empty strings\n",
    "columns_with_empty_strings = empty_strings_columns[empty_strings_columns].index.tolist()\n",
    "print(\"Columns with empty row:\", columns_with_empty_strings)\n",
    "\n",
    "#  number of rows with empty strings for each given column\n",
    "for column in columns_with_empty_strings:\n",
    "    number_of_empty_rows = census10_df[census10_df[column].str.strip() == ''].shape[0]\n",
    "    print(f\"Number of empty rows in '{column}': {number_of_empty_rows}\")\n"
   ]
  },
  {
   "cell_type": "code",
   "execution_count": 12,
   "id": "e42cf764",
   "metadata": {},
   "outputs": [
    {
     "data": {
      "text/plain": [
       "array(['Christian', 'None', nan, 'Muslim', 'Catholic', 'Methodist',\n",
       "       'Jewish', 'Private', 'Sikh', 'Agnostic', 'Sith', 'Orthodoxy',\n",
       "       'Hindu', 'Bahai', 'Baptist'], dtype=object)"
      ]
     },
     "execution_count": 12,
     "metadata": {},
     "output_type": "execute_result"
    }
   ],
   "source": [
    "census10_df['Religion'].unique()"
   ]
  },
  {
   "cell_type": "markdown",
   "id": "20c4ab6f",
   "metadata": {},
   "source": [
    "- nan and Sith shall be replaced accordingly"
   ]
  },
  {
   "cell_type": "code",
   "execution_count": 13,
   "id": "a50f9544",
   "metadata": {},
   "outputs": [
    {
     "data": {
      "text/plain": [
       "array(['Married', nan, 'Single', 'Divorced', 'Widowed'], dtype=object)"
      ]
     },
     "execution_count": 13,
     "metadata": {},
     "output_type": "execute_result"
    }
   ],
   "source": [
    "census10_df['Marital Status'].unique()"
   ]
  },
  {
   "cell_type": "markdown",
   "id": "b8aba639",
   "metadata": {},
   "source": [
    "- nan shall be replaced accordingly"
   ]
  },
  {
   "cell_type": "code",
   "execution_count": 14,
   "id": "1df19f60",
   "metadata": {},
   "outputs": [
    {
     "data": {
      "text/plain": [
       "array(['None', ' ', 'Mental Disability', 'Deaf', 'Blind',\n",
       "       'Unknown Infection', 'Physical Disability', 'Disabled'],\n",
       "      dtype=object)"
      ]
     },
     "execution_count": 14,
     "metadata": {},
     "output_type": "execute_result"
    }
   ],
   "source": [
    "census10_df['Infirmity'].unique()"
   ]
  },
  {
   "cell_type": "code",
   "execution_count": 15,
   "id": "68d251b3",
   "metadata": {},
   "outputs": [
    {
     "data": {
      "text/plain": [
       "'None'"
      ]
     },
     "execution_count": 15,
     "metadata": {},
     "output_type": "execute_result"
    }
   ],
   "source": [
    "census10_df['Infirmity'].mode().iloc[0]"
   ]
  },
  {
   "cell_type": "markdown",
   "id": "ade9fc69",
   "metadata": {},
   "source": [
    "- The empty string ' ' shall be replaced with 'None'being the most occured under the column for Infirmity"
   ]
  },
  {
   "cell_type": "code",
   "execution_count": 16,
   "id": "4f42f3b8",
   "metadata": {},
   "outputs": [
    {
     "data": {
      "text/plain": [
       "array(['Solicitor, Scotland', 'Lawyer', 'Unemployed', ...,\n",
       "       'Retired Theatre manager', 'Retired Web designer',\n",
       "       'Retired Engineer, production'], dtype=object)"
      ]
     },
     "execution_count": 16,
     "metadata": {},
     "output_type": "execute_result"
    }
   ],
   "source": [
    "census10_df['Occupation'].unique()"
   ]
  },
  {
   "cell_type": "markdown",
   "id": "c5a3c88a",
   "metadata": {},
   "source": [
    "- The empty strings shall be filled with 'University Student'for the 19 year old and 'Unemployed for the 52 year old man\n",
    "- University Student is the most occured for 19 years old while Unemployed appears to be dominant the most dominant Occupation for Age 52 years\n"
   ]
  },
  {
   "cell_type": "code",
   "execution_count": 17,
   "id": "32836c2c",
   "metadata": {},
   "outputs": [
    {
     "data": {
      "text/plain": [
       "array(['Male', 'Female', ' '], dtype=object)"
      ]
     },
     "execution_count": 17,
     "metadata": {},
     "output_type": "execute_result"
    }
   ],
   "source": [
    "census10_df['Gender'].unique()"
   ]
  },
  {
   "cell_type": "markdown",
   "id": "40ca19ce",
   "metadata": {},
   "source": [
    "- This empty string shall be replaced with 'Female'.The person being a 'daughter' to the Head of House. The appropriate Gender for a 'Daughter' should be 'Female'"
   ]
  },
  {
   "cell_type": "code",
   "execution_count": 18,
   "id": "f2fdb484",
   "metadata": {},
   "outputs": [
    {
     "data": {
      "text/plain": [
       "array(['Head', 'Wife', 'Husband', 'Adopted Son', 'None', 'Son',\n",
       "       'Daughter', 'Lodger', 'Partner', 'Nephew', 'Visitor', 'Cousin',\n",
       "       'Adopted Daughter', 'Grandson', 'Sibling', 'Granddaughter',\n",
       "       'Neice', 'Step-Daughter', 'Daughter-in-law', 'Step-Son'],\n",
       "      dtype=object)"
      ]
     },
     "execution_count": 18,
     "metadata": {},
     "output_type": "execute_result"
    }
   ],
   "source": [
    "census10_df['Relationship to Head of House'].unique()"
   ]
  },
  {
   "cell_type": "code",
   "execution_count": 19,
   "id": "ac252fab",
   "metadata": {},
   "outputs": [
    {
     "data": {
      "text/plain": [
       "array([ 26.        ,  50.        ,  53.        ,  15.        ,\n",
       "        20.        ,  55.        ,  30.        ,  24.        ,\n",
       "        49.        ,  16.        ,  13.        ,  12.        ,\n",
       "        54.        ,  18.        ,   9.        ,   8.        ,\n",
       "         3.        ,  42.        ,  41.        ,  17.        ,\n",
       "        44.        ,  31.        ,  21.        ,  59.        ,\n",
       "        19.        ,  14.        ,  11.        ,  23.        ,\n",
       "        29.        ,  32.        ,  36.        ,  28.        ,\n",
       "         4.        ,  25.        ,  72.        ,  10.        ,\n",
       "        33.        ,   7.        ,   1.        ,  39.        ,\n",
       "        35.        ,  40.        ,   5.        ,  51.        ,\n",
       "        45.        ,   6.        ,  62.        ,  66.        ,\n",
       "        68.        ,  69.        ,  58.        ,  56.        ,\n",
       "        60.        ,  37.        ,  75.        ,  46.        ,\n",
       "        34.        ,   2.        ,   0.        ,  43.        ,\n",
       "        47.        ,  63.        ,  27.        ,  22.        ,\n",
       "        38.        ,  76.        ,  48.        ,  65.        ,\n",
       "        67.        ,  57.        ,  64.        ,  74.        ,\n",
       "        61.        ,  83.        ,  82.        ,  99.        ,\n",
       "       105.        ,  93.        ,  94.        ,  52.        ,\n",
       "        73.        ,  71.        ,  80.        ,  88.        ,\n",
       "        79.        ,  89.        ,  91.        ,  85.        ,\n",
       "        84.        ,  77.        ,  81.        ,  70.        ,\n",
       "        78.        ,  86.        ,  87.        ,  56.05786898,\n",
       "        54.05786898, 101.        ,  97.        ,  90.        ,\n",
       "        70.86192055,  78.86192055,  73.85023219,  76.85023219,\n",
       "        92.        , 100.        ,  95.        ,  96.        ,\n",
       "        87.09483634,  92.09483634,  98.        ,  88.11541046,\n",
       "        49.        ,  48.        ,  45.        ,  57.38855894,\n",
       "        62.38855894])"
      ]
     },
     "execution_count": 19,
     "metadata": {},
     "output_type": "execute_result"
    }
   ],
   "source": [
    "census10_df['Age'].unique()"
   ]
  },
  {
   "cell_type": "markdown",
   "id": "f5b53f41",
   "metadata": {},
   "source": [
    "- All the rows in float data type shall be converted to integer to maintain a consistent data type"
   ]
  },
  {
   "cell_type": "code",
   "execution_count": 20,
   "id": "b7bc2afd",
   "metadata": {},
   "outputs": [
    {
     "data": {
      "text/plain": [
       "array(['Barton', 'Smith', 'Walker', 'Wright', 'Stevenson', 'Forster',\n",
       "       'Kelly', 'Clarke-Kelly', 'Turner', 'Roberts', 'Stokes', 'Archer',\n",
       "       'Shaw', 'Austin', 'Wilson', 'French', 'Hughes', 'Jones',\n",
       "       'Griffiths', 'McDonald', 'Hall', 'Ryan', 'Bradley-Ryan', 'Nash',\n",
       "       'Sykes', 'Wood', 'Hudson', 'Harrison', 'Browne', 'Lees', 'Woods',\n",
       "       'Fowler', 'Cooper', 'Mistry', 'Bevan', 'Collier', 'Holmes',\n",
       "       'Price', 'White', 'Cook', 'Miles', 'Stevens', 'Davies', 'Rees',\n",
       "       'Wilkins', 'Green', 'Dickinson', 'Williams', 'Pearson',\n",
       "       'Green-Pearson', 'Sims', 'Storey', 'Scott', 'Reed', 'Webb',\n",
       "       'Gordon', 'Lloyd', 'Lambert', 'Gill', 'Rogers', 'Greenwood',\n",
       "       'Taylor', 'James', 'Lyons', 'Warren', 'Martin', 'Quinn', 'Parsons',\n",
       "       'Skinner', 'Thomas-Hughes', 'Peters', 'May', 'Carter', 'Payne',\n",
       "       'Boyle', 'Graham', 'Harrison-Graham', 'Hancock', 'Hill', 'Young',\n",
       "       'Wade', 'Spencer', 'Brown', 'Briggs', 'Kaur', 'Phillips', 'Dodd',\n",
       "       'Myers', 'Morton', 'Johnson', 'Ahmed', 'Thomas', 'Singh',\n",
       "       'Dodd-Singh', 'Haynes', 'Wall', 'Winter-Wall',\n",
       "       'Hodgson-Winter-Wall', 'West', 'Leonard', 'Baker', 'King',\n",
       "       'Barker', 'Barker-Nolan', 'Gough', 'Anderson', 'Field', 'Kennedy',\n",
       "       'Ferguson', 'Morris', 'Curtis', 'McCarthy', 'Bentley', 'Evans',\n",
       "       'Gilbert', 'Fisher', 'Mason', 'Humphreys', 'Arnold', 'Newman',\n",
       "       'Bradley', 'Sharp', 'Lee', 'Buckley', 'Waters', 'Garner', 'Foster',\n",
       "       'Cole', 'Freeman', 'Brookes', 'Campbell', 'Manning', 'Clarke',\n",
       "       'Ward', 'Ali', 'Barnes', 'Porter', 'Richardson', 'Thompson',\n",
       "       'Bray', 'Humphries', 'Adams', 'Watson', 'Randall', 'Jarvis',\n",
       "       'Patel', 'Moore', 'Watkins', 'Burgess', 'Page', 'Wilkinson',\n",
       "       'Parkes', 'Saunders', 'Bishop', 'Hutchinson', 'Bell', 'Morgan',\n",
       "       'Shepherd', 'Sullivan', 'Walsh-Turner', 'Jennings', \"O'Brien\",\n",
       "       'Allen', 'Harvey', 'Marshall', 'Davis', 'Stewart', 'Harris',\n",
       "       'Sanders', 'Patterson', 'Wilkinson-Lee', 'Cartwright', 'Moss',\n",
       "       'Jackson', 'Charlton', 'Riley', 'Palmer', 'Flynn', 'Woodward',\n",
       "       'Long', \"O'Sullivan\", 'Hilton', 'Banks', 'Holloway', 'Nicholls',\n",
       "       'Ford', 'Clark', 'Lowe', 'Griffin', 'Rose', 'Dunn', 'Hooper',\n",
       "       'Cross', 'Powell', 'Andrews', 'Power', 'Brown-Barry', 'Miller',\n",
       "       'Vaughan', 'Lynch', 'Coleman', 'Dobson', 'Warner', 'Blackburn',\n",
       "       'Begum', 'Davies-Begum', 'Norman', 'Hope', 'Chambers', 'Kirk',\n",
       "       'Horton', 'Thomson', 'Carpenter', 'Hawkins', 'Knight', 'Gray',\n",
       "       'Lloyd-Jones', 'Bowen', 'Mills', 'Hyde', 'Daniels', 'Robinson',\n",
       "       'Herbert', 'Gibson', 'Franklin', 'Parry', 'Rhodes',\n",
       "       'Richardson-Dodd', 'Berry', 'Harding', 'Glover', 'Thorpe',\n",
       "       'Simpson', 'Bradshaw', 'Walsh', 'Gardner', 'Russell', 'George',\n",
       "       'Marsden', 'Lawrence', 'Murphy', 'Law', 'Shah', 'Hart', 'Chadwick',\n",
       "       \"O'Sullivan-Allen\", 'Gardiner', 'Savage', 'Dawson', 'Black',\n",
       "       'Bartlett', 'Baxter', 'Pollard', 'Bailey', 'Edwards-Sharp',\n",
       "       'Whittaker', 'McLean', 'Ellis', 'Holden', 'Harper', 'Burton',\n",
       "       'Elliott', 'Hopkins', 'Bennett', 'Hewitt', 'North', 'Robson',\n",
       "       'Ross', 'Macdonald', 'Goodwin', 'Jones-Harding', 'Reynolds',\n",
       "       'Hodgson', 'Yates', 'Sanderson', 'McKenzie', 'Fraser', 'Byrne',\n",
       "       'Middleton', 'Akhtar', 'Fry', 'Barnett', 'Charlton-Williams',\n",
       "       'Pearce', 'Barry', 'Stephens', 'Reeves', 'Willis', 'Burke',\n",
       "       'Simpson-Burke', 'Singh-Bennett', 'Lewis', 'Connolly', 'Stanley',\n",
       "       'Booth', 'Owen', 'Francis-Wilkinson', 'Barrett', 'Holt', 'Hunt',\n",
       "       'Khan', 'Stone', 'Ball', 'Murray', 'Wong', 'Nixon', 'Joyce',\n",
       "       'Cooke', 'Parker-Phillips', 'Davey', 'Clements', 'Dixon',\n",
       "       'Stephenson', 'Mann', 'Alexander', 'Young-Parry', 'Matthews',\n",
       "       'Robertson-Newman', 'Henderson', 'Davies-Glover', 'Slater',\n",
       "       'Butler', 'Parker', 'Bruce', 'Wells', 'Dyer', 'Giles-Dyer',\n",
       "       'Burns-Morgan', 'Day', 'Wallace-Evans', 'Fox', 'Richards',\n",
       "       'Goddard', 'Cox', 'Birch', 'Hussain', 'Heath', 'Osborne',\n",
       "       'Simmons', 'Butcher', 'Edwards', 'Potts', 'Brooks', 'Ward-Sutton',\n",
       "       'Marsh', 'Pritchard', 'Howard', 'Duffy', 'Hicks', 'Parkinson',\n",
       "       'Walton', 'Ashton', 'Mahmood', 'Higgins', 'Hurst-Johnson',\n",
       "       'Gibbons', 'West-Thomas', 'Khan-Morris', \"O'Neill\", 'Armstrong',\n",
       "       'Bull', 'Perry', 'Godfrey', 'Moran', 'Howe', 'Perkins', 'Hardy',\n",
       "       'Oliver', 'Wyatt', 'Carr-Morgan', 'Hurst', 'Lewis-Hurst', 'Rowley',\n",
       "       'Rowley-Sutton', 'Dennis', 'Atkinson', 'Bird', 'Ingram', 'Smart',\n",
       "       'Simpson-Rogers', 'Schofield', 'Schofield-Hawkins', 'Jones-Joyce',\n",
       "       'Kemp', 'Jennings-Bowen', 'Potter', 'Todd', 'Johnston',\n",
       "       'Williams-Moore', 'Nolan', 'Davidson', 'Webb-Taylor', 'Noble',\n",
       "       'Hamilton', 'Patel-Hamilton', 'Bond', 'Bond-Kent', 'Lane', 'John',\n",
       "       'Giles', 'Hart-Harrison', 'Frost', 'Chamberlain', 'Farrell',\n",
       "       'Baldwin', 'Barnes-Slater', 'Doyle', 'Mitchell-Anderson',\n",
       "       'Fletcher', 'Clayton', 'Collins', 'Vincent', 'Chandler',\n",
       "       \"Hunter-O'Brien\", 'Harper-Harrison', 'Connor', 'Nicholson', 'Miah',\n",
       "       'Marshall-Fisher', 'Young-Marshall-Fisher', 'Francis', 'Lamb',\n",
       "       'Kay', 'Brady', 'Bruce-Harvey', 'Whitehead', 'Mitchell',\n",
       "       'Burgess-Martin', 'Short', 'Morrison', 'Wheeler', 'Watts',\n",
       "       'Mellor', 'Henry', 'Owens', 'Steele', 'Chapman', 'Reid', 'Naylor',\n",
       "       'Webster', 'Winter', 'Bryant', 'Whitehouse', 'Leach', 'Dean',\n",
       "       'Robertson', 'Morris-Hughes', 'Mills-Saunders', 'Carr',\n",
       "       'Sutton-Patel', 'Nelson', 'Potter-Ford', 'Newton', 'Howells',\n",
       "       'Holt-White', 'Chan', 'Tucker', 'Bibi', 'Smith-Johnson',\n",
       "       'Robinson-Harris', 'Lynch-Harding', 'Preston', 'Walters', 'Gibbs',\n",
       "       'Knowles', 'Davies-Bates', \"O'Connor\", 'Hayes', 'Norris-Hill',\n",
       "       'Bates', 'Howell', 'Tyler', 'Gallagher', 'James-Ward',\n",
       "       'Fitzgerald', 'Taylor-Hunt', 'Matthews-Barton', 'Metcalfe',\n",
       "       'Blake', 'Knowles-Cooke', 'Abbott', 'Hunter', 'Gregory', 'Rice',\n",
       "       'Duncan', 'Jordan', \"O'Donnell\", 'Kirby', 'Fleming', 'Burns',\n",
       "       'Hobbs', 'Wright-Wall', 'Hardy-Gardner', 'Douglas', 'Ball-Henry',\n",
       "       'Lucas', 'Allan', 'Cunningham', 'Roberts-Hill', 'Thornton',\n",
       "       'Weston', 'Gould', 'Harrison-Jones', 'Atkins-Hall', 'Morley',\n",
       "       'Webb-Knight', 'Grant', 'Cooper-Williams', 'Barber', 'Burrows',\n",
       "       'Hale', 'Sutton', 'Bolton', 'Carroll', 'Rowe', ' ', 'Cameron',\n",
       "       'Welch', 'Coates', 'Miller-Pearson', 'Kirby-Thompson', 'Wallace',\n",
       "       'Hart-King', 'Mann-Whitehead', 'Burrows-Humphreys', 'Sinclair',\n",
       "       'Middleton-Baker', 'Mitchell-Taylor', 'Williams-Johnson',\n",
       "       'Rahman-Harvey', 'Stephens-Davies', 'Mills-Macdonald', 'Davison',\n",
       "       'Jackson-Winter', 'Barlow', 'Evans-Perry', 'Swift', 'Murray-Evans',\n",
       "       'Crawford', 'Tomlinson-Bradley', 'Norris', 'Hammond', 'Moss-Marsh',\n",
       "       'Jenkins', 'Fuller-Hewitt', 'Edwards-Roberts', 'Jones-Leach',\n",
       "       'Johnson-Parkinson', 'Rahman', 'Doherty', 'Phillips-Carroll',\n",
       "       'Marsden-Bell', 'Williamson', 'Pope', 'Perry-Ward', 'Pratt',\n",
       "       'Ahmed-Collins', 'Iqbal', 'Jones-Ball', 'Norton', 'White-Daniels',\n",
       "       'Smith-Bennett', 'Wallis', 'Holland', 'Taylor-Jones', 'Hanson',\n",
       "       'Smith-Webb', 'Hayward', 'Sheppard', 'Lawson-Hewitt', 'Howarth',\n",
       "       'Read-Jackson', 'Bailey-Dawson', 'Jones-Taylor', 'Carey', 'Kerr',\n",
       "       'Finch', 'Tomlinson', 'Johnson-Bradshaw', 'Peacock', 'Webb-Willis',\n",
       "       'Kelly-Oliver', 'Nash-Leach', 'Edwards-Ward', 'Lawson',\n",
       "       'Reynolds-Lowe', 'Watson-Barber', 'Hargreaves-Hopkins',\n",
       "       'Brown-Perry', 'Walsh-Davies', 'Fisher-Walsh-Davies',\n",
       "       'Lewis-Miles', 'Hill-Wood', 'Coles', 'Little', 'Moore-White',\n",
       "       'Douglas-Bradley', 'Patel-Henderson', 'Fuller', 'Faulkner',\n",
       "       'Wheeler-Davison', 'Daly', 'Mitchell-West', 'Hargreaves',\n",
       "       'Townsend', 'Donnelly', 'Jones-Sharp', 'Pugh', 'Pickering',\n",
       "       'Oliver-Evans', 'Sharpe', 'Dean-Austin', 'French-Clements',\n",
       "       'Hartley', 'Lawson-Phillips', 'Robinson-Bolton',\n",
       "       'Hart-Robinson-Bolton', 'Kent', 'Rowe-Day', 'Gallagher-Davies',\n",
       "       'Houghton', 'Parkin', 'Grant-Mitchell', 'Whittaker-Houghton',\n",
       "       'Singh-Walker', \"O'Brien-Rees\", 'Holt-Parkin', 'Williams-Chapman',\n",
       "       'Tomlinson-Ahmed', 'Reid-Harris', 'Williamson-Holland',\n",
       "       'Whitehead-Shaw', 'Harper-Foster', 'Flynn-Simpson',\n",
       "       'Williams-Lawrence', 'Benson', 'Poole', 'Kelly-Turner',\n",
       "       'Dean-Gallagher', 'Turner-Bradshaw', 'Walker-Holmes', 'Lee-George',\n",
       "       'Brennan', 'Barnes-Johnson', 'Walker-Davis', 'Frost-Marsh'],\n",
       "      dtype=object)"
      ]
     },
     "execution_count": 20,
     "metadata": {},
     "output_type": "execute_result"
    }
   ],
   "source": [
    "census10_df['Surname'].unique()"
   ]
  },
  {
   "cell_type": "markdown",
   "id": "6cc68bef",
   "metadata": {},
   "source": [
    "- The empty strings shall be repalced with 'Roberts' which  is the surname of the  Head of house and he being a son to the Head"
   ]
  },
  {
   "cell_type": "code",
   "execution_count": 21,
   "id": "92fc8827",
   "metadata": {},
   "outputs": [
    {
     "data": {
      "text/plain": [
       "array(['Ross', 'Amelia', 'Francesca', 'Connor', 'Jacob', 'Paige',\n",
       "       'Barbara', 'Declan', 'Melanie', 'Luke', 'Ben', 'Dorothy', 'Lisa',\n",
       "       'Darren', 'Tracey', 'Charles', 'Samuel', 'Charlotte', 'Keith',\n",
       "       'Clive', 'Molly', 'Heather', 'Joshua', 'Abbie', 'Dean', 'Kenneth',\n",
       "       'Adrian', 'Joan', 'Sheila', 'Chelsea', 'Stacey', 'Rosemary',\n",
       "       'Lesley', 'Aaron', 'Louise', 'Grace', 'Gerard', 'Claire', 'Bruce',\n",
       "       'Stanley', 'Rebecca', 'Howard', 'Maurice', 'Shirley', 'Toby',\n",
       "       'Ian', 'Josephine', 'Glen', 'Megan', 'Kim', 'Kimberley', 'Iain',\n",
       "       'Jade', 'Chloe', 'Edward', 'Mohamed', 'Wayne', 'Danielle',\n",
       "       'Charlie', 'Raymond', 'Conor', 'Katherine', 'Lynne', 'Sylvia',\n",
       "       'Glenn', 'Yvonne', 'Arthur', 'Hugh', 'Jessica', 'Danny', 'Pamela',\n",
       "       'Olivia', 'Alan', 'Richard', 'Maria', 'Lynn', 'Leigh', 'Simon',\n",
       "       'John', 'Marc', 'Brian', 'Philip', 'Jenna', 'Teresa', 'Brenda',\n",
       "       'Katy', 'Jordan', 'Marilyn', 'Suzanne', 'Laura', 'Marie', 'Judith',\n",
       "       'Jamie', 'Bryan', 'Vincent', 'Linda', 'Clare', 'Caroline',\n",
       "       'Lindsey', 'Denis', 'Mary', 'Donald', 'Stewart', 'Lawrence',\n",
       "       'Mandy', 'Tracy', 'Marion', 'Sally', 'Liam', 'Cheryl', 'Ryan',\n",
       "       'David', 'Sarah', 'Eleanor', 'Mohammad', 'Karen', 'Gillian',\n",
       "       'Lewis', 'Benjamin', 'Susan', 'Sophie', 'Rosie', 'Gemma', 'Owen',\n",
       "       'Amanda', 'Martyn', 'Kieran', 'Kelly', 'Mark', 'Alex',\n",
       "       'Christopher', 'Kirsty', 'Joyce', 'Christian', 'George', 'Amy',\n",
       "       'Jay', 'Peter', 'Phillip', 'Alison', 'Beverley', 'Callum', 'Gary',\n",
       "       'Guy', 'Leonard', 'Malcolm', 'Carolyn', 'Lee', 'Rachel', 'Graham',\n",
       "       'Jeremy', 'Holly', 'Zoe', 'Garry', 'Lucy', 'Albert', 'Dawn',\n",
       "       'Josh', 'Mathew', 'Hilary', 'Vanessa', 'Matthew', 'Victoria',\n",
       "       'Valerie', 'Dennis', 'Leon', 'Max', 'Victor', 'Abigail', 'Ronald',\n",
       "       'Janet', 'Frank', 'Nigel', 'Carl', 'Justin', 'Terence', 'Robert',\n",
       "       'Samantha', 'Anna', 'Scott', 'Paula', 'Ashley', 'Gerald',\n",
       "       'Kayleigh', 'Emily', 'Jonathan', 'Brett', 'Julia', 'Deborah',\n",
       "       'Margaret', 'Sharon', 'Carol', 'Bethan', 'Elliot', 'Gregory',\n",
       "       'Jake', 'Joanne', 'Andrea', 'Dominic', 'Gordon', 'Paul', 'James',\n",
       "       'Shannon', 'Jennifer', 'Lorraine', 'Gail', 'Sandra', 'Jason',\n",
       "       'Clifford', 'Anthony', 'Gavin', 'Patricia', 'Damien', 'Trevor',\n",
       "       'Carole', 'Aimee', 'Alexandra', 'Nicola', 'Allan', 'Irene',\n",
       "       'Abdul', 'Gareth', 'Russell', 'Ricky', 'Katie', 'Andrew',\n",
       "       'Stephanie', 'Louis', 'Oliver', 'Ellie', 'Lydia', 'Dylan',\n",
       "       'Melissa', 'Jane', 'Rita', 'Tom', 'Emma', 'Natasha', 'Neil', 'Ann',\n",
       "       'Cameron', 'Georgia', 'Geoffrey', 'Eileen', 'Beth', 'Catherine',\n",
       "       'Christine', 'Alexander', 'Mitchell', 'Sam', 'Bernard', 'Duncan',\n",
       "       'Carly', 'Shaun', 'Ashleigh', 'Rachael', 'Joanna', 'Anne', 'Joe',\n",
       "       'Charlene', 'Sian', 'Timothy', 'Shane', 'Donna', 'Elizabeth',\n",
       "       'Frances', 'Lauren', 'Diane', 'Nicholas', 'Jeffrey', 'Joseph',\n",
       "       'Marian', 'Hazel', 'Janice', 'Natalie', 'Leslie', 'Barry', 'Fiona',\n",
       "       'Lynda', 'Kathleen', 'Nathan', 'Thomas', 'Terry', 'Derek',\n",
       "       'Daniel', 'Kerry', 'Sara', 'Robin', 'Leah', 'Naomi', 'Jill',\n",
       "       'Angela', 'Kyle', 'Rhys', 'Michael', 'Jayne', 'Michelle',\n",
       "       'Pauline', 'Debra', 'Hannah', 'Harriet', 'Norman', 'Roy', 'Jodie',\n",
       "       'Brandon', 'Craig', 'Roger', 'William', 'Bethany', 'Bradley',\n",
       "       'Elliott', 'Annette', 'Leanne', 'Marcus', 'Douglas', 'Reece',\n",
       "       'Steven', 'Diana', 'Hayley', 'Ruth', 'Kate', 'Julie', 'Damian',\n",
       "       'Stuart', 'Jack', 'Martin', 'Amber', 'Kevin', 'Billy', 'Jasmine',\n",
       "       'Harry', 'June', 'Maureen', 'Nicole', 'Dale', 'Julian', 'Jemma',\n",
       "       'Tina', 'Frederick', 'Graeme', 'Adam', 'Denise', 'Francis',\n",
       "       'Jacqueline', 'Eric', 'Geraldine', 'Hollie', 'Patrick', 'Joel',\n",
       "       'Antony', 'Karl', 'Jean', 'Mohammed', 'Alice', 'Georgina', 'Wendy',\n",
       "       'Kathryn', 'Henry', 'Sean', 'Elaine', 'Tony', 'Stephen', 'Colin',\n",
       "       'Helen', ' '], dtype=object)"
      ]
     },
     "execution_count": 21,
     "metadata": {},
     "output_type": "execute_result"
    }
   ],
   "source": [
    "census10_df['First Name'].unique()"
   ]
  },
  {
   "cell_type": "markdown",
   "id": "1e2583bd",
   "metadata": {},
   "source": [
    "- The empty strings shall be repalced with with 'Unknown'as no effective link to the first name is traced"
   ]
  },
  {
   "cell_type": "code",
   "execution_count": 22,
   "id": "cdde4cfe",
   "metadata": {},
   "outputs": [
    {
     "data": {
      "text/plain": [
       "array(['Upland Creek', 'Holyroodbranch Avenue', 'Edwards Station',\n",
       "       'Orchard Underpass', 'Roberts Shores', 'William Avenue',\n",
       "       'Manorrigg Lane', 'Burton Lane', 'Leviathan Avenue',\n",
       "       'Butcher Street', 'Virgocrack Road', 'Sandy Drive',\n",
       "       'Eaglebelt Road', 'Conifer Lane', 'Temple Orchard',\n",
       "       'Preston Valleys', 'Shark Parkways', 'Iqbal Drive',\n",
       "       'Howell Avenue', 'Rogers Mount', 'Henge Drive', 'Bangor Burgs',\n",
       "       'Wright River', 'Campbell Terrace', 'Davis Hollow',\n",
       "       'Brighton Neck', 'Williams Stream', 'Appletree Avenue',\n",
       "       'Salford Lane', 'March Motorway', 'Jones Track', 'Walker Walk',\n",
       "       'Southampton Manor', 'Faulkner Road', 'Jones Stream', 'Fox Square',\n",
       "       'Wessex Crest', 'Kent Hill', 'Threpenny Drives', 'Dundee Haven',\n",
       "       'Sheffield Mills', 'Blackburn Inlet', 'Steele Islands',\n",
       "       'Newport Street', 'Wright Ridges', 'Albion Street',\n",
       "       'Bennett Street', 'Honeysuckle Avenue', 'Bletchley Road',\n",
       "       'James Land', 'England Lane', 'Taylor Lane', 'Harrison Wells',\n",
       "       'Walker Hills', 'Oxford Island', 'Narwhal Crescent',\n",
       "       'Morgan Avenue', 'Threadneedle Avenue', 'Wilkinson Walk',\n",
       "       'Williams Crescent', 'Arthur Cove', 'Pinewood Road',\n",
       "       'Worcester Hill', 'St.Luke Street', 'West Ramp', 'Music Crescent',\n",
       "       'Murray Street', 'Scotland Lane', 'Thorpe Road', 'James View',\n",
       "       'Merlin Crescent', 'Green Street', 'Column Lane',\n",
       "       'Worcester Avenue', 'Polarispick Road', 'Curtis Avenue',\n",
       "       'Nicholls Bridge', 'Lewis Trace', 'Stevens Lane', 'Estuary Street',\n",
       "       'Martin Spur', 'Cumberland Street', 'Dunn Lane', 'England Green',\n",
       "       'Jackson Neck', 'Main Lane', 'Brown Crescent', 'Calendar Drive',\n",
       "       'Victoria Turnpike', 'Green Avenue', 'Grant Tower',\n",
       "       'Newcastle Castle', 'Gregory Abbey', 'Canterbury Factory',\n",
       "       'Lowe Tower', 'Brown Lodge', 'Hawthorn Citadel', 'White House',\n",
       "       'June Hall', 'Weston Barn', 'Harris Commune', 'Marsh Haven',\n",
       "       'Anderson Castle', 'Harper Fort', 'Murphy Fortress'], dtype=object)"
      ]
     },
     "execution_count": 22,
     "metadata": {},
     "output_type": "execute_result"
    }
   ],
   "source": [
    "census10_df['Street'].unique()"
   ]
  },
  {
   "cell_type": "code",
   "execution_count": 23,
   "id": "5efb8968",
   "metadata": {},
   "outputs": [
    {
     "data": {
      "text/plain": [
       "array([  1,   2,   3,   4,   5,   6,   7,   8,   9,  10,  11,  12,  13,\n",
       "        14,  15,  16,  17,  18,  19,  20,  21,  22,  23,  24,  25,  26,\n",
       "        27,  28,  29,  30,  31,  32,  33,  34,  35,  36,  37,  38,  39,\n",
       "        40,  41,  42,  43,  44,  45,  46,  47,  48,  49,  50,  51,  52,\n",
       "        53,  54,  55,  56,  57,  58,  59,  60,  61,  62,  63,  64,  65,\n",
       "        66,  67,  68,  69,  70,  71,  72,  73,  74,  75,  76,  77,  78,\n",
       "        79,  80,  81,  82,  83,  84,  85,  86,  87,  88,  89,  90,  91,\n",
       "        92,  93,  94,  95,  96,  97,  98,  99, 100, 101, 102, 103, 104,\n",
       "       105, 106, 107, 108, 109, 110, 111, 112, 113, 114, 115, 116, 117,\n",
       "       118, 119, 120, 121, 122, 123, 124, 125, 126, 127, 128, 129, 130,\n",
       "       131, 132, 133, 134, 135, 136, 137, 138, 139, 140, 141, 142, 143,\n",
       "       144, 145, 146, 147, 148, 149, 150, 151, 152, 153, 154, 155, 156,\n",
       "       157, 158], dtype=int64)"
      ]
     },
     "execution_count": 23,
     "metadata": {},
     "output_type": "execute_result"
    }
   ],
   "source": [
    "census10_df['House Number'].unique()"
   ]
  },
  {
   "cell_type": "code",
   "execution_count": null,
   "id": "fe1427be",
   "metadata": {},
   "outputs": [],
   "source": []
  },
  {
   "cell_type": "markdown",
   "id": "fca2f52d",
   "metadata": {},
   "source": [
    "### DATA CLEANING"
   ]
  },
  {
   "cell_type": "markdown",
   "id": "6a6223a0",
   "metadata": {},
   "source": [
    "###### This will be on column basis"
   ]
  },
  {
   "cell_type": "markdown",
   "id": "35dcca6e",
   "metadata": {},
   "source": [
    "###### Handling the column for Religion"
   ]
  },
  {
   "cell_type": "code",
   "execution_count": 24,
   "id": "3893fcf1",
   "metadata": {},
   "outputs": [],
   "source": [
    "# Replacing 'NA' with 'Unknown' in the 'Religion' column\n",
    "census10_df['Religion'] = census10_df['Religion'].fillna('Unknown') # UK laws does not allow imposition of Religion on any one.\n",
    "# Though majority are minor and we may have opted filling the Religion of the Parents: we rather stayed with 'Unknown' thereby assigning,\n",
    "# thereby assigning no Religion and still maintaing the consistency of data on the Religion column\n",
    "\n",
    "# Replacing 'Sith' with 'None' in the 'Religion' column\n",
    "census10_df['Religion'] = census10_df['Religion'].replace('Sith', 'None') # No Religion as 'Sith' hence had to replace with 'None'"
   ]
  },
  {
   "cell_type": "markdown",
   "id": "4b9dd4b9",
   "metadata": {},
   "source": [
    "###### Handling the column for Infirmity"
   ]
  },
  {
   "cell_type": "code",
   "execution_count": 25,
   "id": "f6fc26a5",
   "metadata": {},
   "outputs": [],
   "source": [
    "# Empty strings' ' replaced in the 'Infirmity' column by 'None' which is the mode \n",
    "census10_df.loc[census10_df['Infirmity'].str.strip() == '', 'Infirmity'] = 'None'"
   ]
  },
  {
   "cell_type": "markdown",
   "id": "f1753f5f",
   "metadata": {},
   "source": [
    "###### Handling the column for Occupation"
   ]
  },
  {
   "cell_type": "code",
   "execution_count": 26,
   "id": "acac9587",
   "metadata": {},
   "outputs": [],
   "source": [
    "\n",
    "\n",
    "# Replacing the empty strings under the Occupation column to 'Unknown' for one Age 52\n",
    "census10_df.loc[(census10_df['Age'] == 52) & (census10_df['Occupation'].str.strip() == ''), 'Occupation'] = 'Unknown'\n",
    "\n",
    "\n",
    "# Replacing the empty strings under the Occupation column to 'University Student' for Age 19\n",
    "census10_df.loc[(census10_df['Age'] == 19) & (census10_df['Occupation'].str.strip() == ''), 'Occupation'] = 'University Student'\n",
    "\n",
    "\n",
    "# Replacing 'Unemployed' with 'Retired Unemployed' for individual Age 68 and above; under the column 'Occupation'\n",
    "census10_df.loc[census10_df['Age'] >= 68, 'Occupation'] = census10_df.loc[census10_df['Age'] >= 68, 'Occupation'].replace('Unemployed', 'Retired Unemployed')\n",
    "\n",
    "# Though as at 2021 the State pension age is 66 years (both men and women) the average retirement age is around 65 years\n",
    "# However from the data, its observed that the retirement the retirement age is 68 years. Handling of the occupation column\n",
    "# was done in line with the nature and language of the data presented. Factually, today, the UK no longer has forced retirement age."
   ]
  },
  {
   "cell_type": "markdown",
   "id": "d1ec103d",
   "metadata": {},
   "source": [
    "###### Handling the column for Marital Status"
   ]
  },
  {
   "cell_type": "code",
   "execution_count": 27,
   "id": "d2909f3e",
   "metadata": {},
   "outputs": [],
   "source": [
    "# Replacing 'NA' with 'Single minor' for individual Age  18 under Marital Status\n",
    "census10_df.loc[(census10_df['Marital Status'].isna()) & (census10_df['Age'] < 18), 'Marital Status'] = 'Single minor'\n",
    "\n",
    "# Replacing 'Single' with 'Single minor' for individual Age under 18 under Marital Status\n",
    "census10_df.loc[(census10_df['Age'] < 18) & (census10_df['Marital Status'] == 'Single'), 'Marital Status'] = 'Single minor'\n",
    "\n",
    "# Replacing 'Divorced' with 'Single minor' for individual Age 15 under Marital Status:Not practicable in Uk laws to be married at 15\n",
    "census10_df.loc[(census10_df['Age'] == 15) & (census10_df['Marital Status'] == 'Divorced'), 'Marital Status'] = 'Single minor'\n"
   ]
  },
  {
   "cell_type": "markdown",
   "id": "ba93f3c2",
   "metadata": {},
   "source": [
    "###### Handling the column for Surname"
   ]
  },
  {
   "cell_type": "code",
   "execution_count": 28,
   "id": "531005b1",
   "metadata": {},
   "outputs": [],
   "source": [
    "# Replace the empty string with 'Roberts' which is the Surname of Head of House \n",
    "census10_df.loc[census10_df['Surname'].str.strip() == '', 'Surname'] = 'Roberts'\n",
    "#Roberts is the name of the Surname of the Head of the House who is a Female. This person is Related to the Head of House as son"
   ]
  },
  {
   "cell_type": "markdown",
   "id": "07f98be7",
   "metadata": {},
   "source": [
    "###### Handling the column for First Name"
   ]
  },
  {
   "cell_type": "code",
   "execution_count": 29,
   "id": "2119a647",
   "metadata": {},
   "outputs": [],
   "source": [
    "# Replace the empty string with 'Unknown' since its almost impossible to link up to the first Name \n",
    "census10_df.loc[census10_df['First Name'].str.strip() == '', 'First Name'] = 'Unknown'\n",
    "\n"
   ]
  },
  {
   "cell_type": "markdown",
   "id": "53f7c533",
   "metadata": {},
   "source": [
    "###### Handling the column for Age (coversion of all floats to integers)"
   ]
  },
  {
   "cell_type": "code",
   "execution_count": 30,
   "id": "3f50586f",
   "metadata": {},
   "outputs": [],
   "source": [
    "# Conversion of all float to integers\n",
    "census10_df['Age'] = census10_df['Age'].astype(int, errors='ignore')\n"
   ]
  },
  {
   "cell_type": "markdown",
   "id": "ed4624a6",
   "metadata": {},
   "source": [
    "###### Handling the column for Gender"
   ]
  },
  {
   "cell_type": "code",
   "execution_count": 31,
   "id": "d4572dfb",
   "metadata": {},
   "outputs": [],
   "source": [
    "\n",
    "# This empty string shall be replaced with 'Female'.The person being a 'daughter' to the Head of House. \n",
    "# The appropriate Gender for a 'Daughter' should be 'Female'\n",
    "\n",
    "census10_df.loc[(census10_df['Relationship to Head of House'] == 'Daughter') & (census10_df['Gender'].str.strip() == ''), 'Gender'] = 'Female'\n"
   ]
  },
  {
   "cell_type": "markdown",
   "id": "9ff98681",
   "metadata": {},
   "source": [
    "###### Handling the column for the Relationship to Head of House"
   ]
  },
  {
   "cell_type": "code",
   "execution_count": 32,
   "id": "24324da8",
   "metadata": {},
   "outputs": [],
   "source": [
    "# It is observed that the Head of House is a married 16 years male while the wife is 19 years with a son fo 2 year.\n",
    "# Since the Head of House must not be less than 18, an operation was initiated on the data to move the Head of House to the wife\n",
    "census10_df.loc[(census10_df['Age'] == 16) & (census10_df['Relationship to Head of House'] == 'Head'), 'Relationship to Head of House'] = 'Husband'\n",
    "census10_df.loc[(census10_df['Age'] == 16) & (census10_df['Relationship to Head of House'] == 'Wife'), 'Relationship to Head of House'] = 'Head'\n",
    "\n",
    "# Replacing underaged (15 years and 16 years) who are Head of House to 'Lodger' A Head of house cannot be less than 18 years\n",
    "census10_df.loc[(census10_df['Age'] == 16) & (census10_df['Relationship to Head of House'] == 'Head'), 'Relationship to Head of House'] = 'Lodger'\n",
    "census10_df.loc[(census10_df['Age'] == 15) & (census10_df['Relationship to Head of House'] == 'Head'), 'Relationship to Head of House'] = 'Lodger'"
   ]
  },
  {
   "cell_type": "markdown",
   "id": "9462c009",
   "metadata": {},
   "source": [
    "###### Handling for Duplicates"
   ]
  },
  {
   "cell_type": "code",
   "execution_count": 33,
   "id": "a1db7d58",
   "metadata": {},
   "outputs": [],
   "source": [
    "# Remove duplicates\n",
    "census10_df.drop_duplicates(inplace=True) # duplicated row taken off\n",
    "# save the cleaned csv file\n",
    "census10_df.to_csv('census10_cleaned_data2.csv', index=False)\n"
   ]
  },
  {
   "cell_type": "code",
   "execution_count": null,
   "id": "320dcf56",
   "metadata": {},
   "outputs": [],
   "source": []
  },
  {
   "cell_type": "markdown",
   "id": "8d8af78e",
   "metadata": {},
   "source": [
    "### CHECKING THROUGH TO CONFIRM DATA IS CLEANED"
   ]
  },
  {
   "cell_type": "code",
   "execution_count": 34,
   "id": "949b25d8",
   "metadata": {},
   "outputs": [],
   "source": [
    "cleaned2_census10_df = pd.read_csv('census10_cleaned_data2.csv')"
   ]
  },
  {
   "cell_type": "code",
   "execution_count": 35,
   "id": "7d0a110c",
   "metadata": {},
   "outputs": [
    {
     "data": {
      "text/plain": [
       "House Number                     0\n",
       "Street                           0\n",
       "First Name                       0\n",
       "Surname                          0\n",
       "Age                              0\n",
       "Relationship to Head of House    0\n",
       "Marital Status                   0\n",
       "Gender                           0\n",
       "Occupation                       0\n",
       "Infirmity                        0\n",
       "Religion                         0\n",
       "dtype: int64"
      ]
     },
     "execution_count": 35,
     "metadata": {},
     "output_type": "execute_result"
    }
   ],
   "source": [
    "cleaned2_census10_df.isna().sum()"
   ]
  },
  {
   "cell_type": "code",
   "execution_count": 36,
   "id": "61be32ae",
   "metadata": {},
   "outputs": [
    {
     "data": {
      "text/plain": [
       "0"
      ]
     },
     "execution_count": 36,
     "metadata": {},
     "output_type": "execute_result"
    }
   ],
   "source": [
    "cleaned2_census10_df['Religion'].isnull().sum() "
   ]
  },
  {
   "cell_type": "code",
   "execution_count": 37,
   "id": "44639a8d",
   "metadata": {},
   "outputs": [
    {
     "data": {
      "text/plain": [
       "0"
      ]
     },
     "execution_count": 37,
     "metadata": {},
     "output_type": "execute_result"
    }
   ],
   "source": [
    "cleaned2_census10_df['Marital Status'].isnull().sum() "
   ]
  },
  {
   "cell_type": "code",
   "execution_count": 38,
   "id": "6993f625",
   "metadata": {},
   "outputs": [
    {
     "name": "stdout",
     "output_type": "stream",
     "text": [
      "<class 'pandas.core.frame.DataFrame'>\n",
      "RangeIndex: 7910 entries, 0 to 7909\n",
      "Data columns (total 11 columns):\n",
      " #   Column                         Non-Null Count  Dtype \n",
      "---  ------                         --------------  ----- \n",
      " 0   House Number                   7910 non-null   int64 \n",
      " 1   Street                         7910 non-null   object\n",
      " 2   First Name                     7910 non-null   object\n",
      " 3   Surname                        7910 non-null   object\n",
      " 4   Age                            7910 non-null   int64 \n",
      " 5   Relationship to Head of House  7910 non-null   object\n",
      " 6   Marital Status                 7910 non-null   object\n",
      " 7   Gender                         7910 non-null   object\n",
      " 8   Occupation                     7910 non-null   object\n",
      " 9   Infirmity                      7910 non-null   object\n",
      " 10  Religion                       7910 non-null   object\n",
      "dtypes: int64(2), object(9)\n",
      "memory usage: 679.9+ KB\n"
     ]
    }
   ],
   "source": [
    "cleaned2_census10_df.info()"
   ]
  },
  {
   "cell_type": "code",
   "execution_count": 39,
   "id": "a8269dbf",
   "metadata": {},
   "outputs": [
    {
     "data": {
      "text/plain": [
       "(7910, 11)"
      ]
     },
     "execution_count": 39,
     "metadata": {},
     "output_type": "execute_result"
    }
   ],
   "source": [
    "cleaned2_census10_df.shape"
   ]
  },
  {
   "cell_type": "markdown",
   "id": "14b0008a",
   "metadata": {},
   "source": [
    "- Now the Age column has been changed from float to integer\n",
    "- We now have 7910 column as the duplicated column has been bremoved\n",
    "- No missing item as all columns are showing 7910 column."
   ]
  },
  {
   "cell_type": "code",
   "execution_count": 40,
   "id": "af79dc5f",
   "metadata": {},
   "outputs": [
    {
     "data": {
      "text/plain": [
       "0"
      ]
     },
     "execution_count": 40,
     "metadata": {},
     "output_type": "execute_result"
    }
   ],
   "source": [
    "cleaned2_census10_df.duplicated().sum()"
   ]
  },
  {
   "cell_type": "markdown",
   "id": "e6c8d4f2",
   "metadata": {},
   "source": [
    "- No more duplicates"
   ]
  },
  {
   "cell_type": "code",
   "execution_count": 41,
   "id": "d4ab2c6c",
   "metadata": {},
   "outputs": [
    {
     "name": "stdout",
     "output_type": "stream",
     "text": [
      "Columns with empty row: []\n"
     ]
    }
   ],
   "source": [
    "# Checking for empty strings within rows in  the given columns\n",
    "empty_strings_columns = cleaned2_census10_df.applymap(lambda x: isinstance(x, str) and x.strip() == '').any()\n",
    "\n",
    "# printing the columns that has empty strings\n",
    "columns_with_empty_strings = empty_strings_columns[empty_strings_columns].index.tolist()\n",
    "print(\"Columns with empty row:\", columns_with_empty_strings)\n"
   ]
  },
  {
   "cell_type": "markdown",
   "id": "da1ac96e",
   "metadata": {},
   "source": [
    "- No more empty strings"
   ]
  },
  {
   "cell_type": "code",
   "execution_count": null,
   "id": "2e9b33fc",
   "metadata": {},
   "outputs": [],
   "source": []
  },
  {
   "cell_type": "markdown",
   "id": "38f59f6c",
   "metadata": {},
   "source": [
    "### ANALYSIS OF CLEANED DATA"
   ]
  },
  {
   "cell_type": "markdown",
   "id": "fb69585e",
   "metadata": {},
   "source": [
    "##### Analysis of Ages of the population-(Histogram plot of Age Distribution)"
   ]
  },
  {
   "cell_type": "code",
   "execution_count": 42,
   "id": "90cd308e",
   "metadata": {},
   "outputs": [
    {
     "name": "stdout",
     "output_type": "stream",
     "text": [
      "The maximum age is: 105 years\n",
      "The minimum age is: 0 years\n"
     ]
    }
   ],
   "source": [
    "# calculating  bin_width\n",
    "max_age =cleaned2_census10_df['Age'].max()\n",
    "min_age = cleaned2_census10_df['Age'].min()\n",
    "\n",
    "print(f\"The maximum age is: {max_age} years\")\n",
    "print(f\"The minimum age is: {min_age} years\")"
   ]
  },
  {
   "cell_type": "code",
   "execution_count": 43,
   "id": "e475ff28",
   "metadata": {},
   "outputs": [],
   "source": [
    "ages_of_population = cleaned2_census10_df['Age']"
   ]
  },
  {
   "cell_type": "code",
   "execution_count": 44,
   "id": "776ea85b",
   "metadata": {},
   "outputs": [
    {
     "name": "stdout",
     "output_type": "stream",
     "text": [
      "The number of bin is: 88\n"
     ]
    }
   ],
   "source": [
    "num_bins = int(np.sqrt(len(ages_of_population)))\n",
    "\n",
    "int(np.sqrt(len(ages_of_population)))\n",
    "print(f\"The number of bin is: {num_bins}\")"
   ]
  },
  {
   "cell_type": "code",
   "execution_count": 45,
   "id": "cdc357c4",
   "metadata": {},
   "outputs": [
    {
     "name": "stdout",
     "output_type": "stream",
     "text": [
      "The bin width is: 1\n"
     ]
    }
   ],
   "source": [
    "\n",
    "\n",
    "bin_width = round((max_age - min_age)/(num_bins))\n",
    "print(f\"The bin width is: {bin_width}\")"
   ]
  },
  {
   "cell_type": "markdown",
   "id": "2bc2ca3b",
   "metadata": {},
   "source": [
    "- From the calcuation above, the most appropriate bin width is 1 and implemented below while the number of bins is 88"
   ]
  },
  {
   "cell_type": "code",
   "execution_count": 46,
   "id": "8b485b1d",
   "metadata": {},
   "outputs": [
    {
     "data": {
      "image/png": "[encoded data removed]",
      "text/plain": [
       "<Figure size 640x480 with 1 Axes>"
      ]
     },
     "metadata": {},
     "output_type": "display_data"
    }
   ],
   "source": [
    "Age_Plot = plt.hist(ages_of_population, bins=num_bins, edgecolor='black')\n",
    "plt.title('Plot of Age of the Population')\n",
    "plt.xlabel('Age (years)')\n",
    "plt.ylabel('Count')\n",
    "plt.show()"
   ]
  },
  {
   "cell_type": "markdown",
   "id": "2178581e",
   "metadata": {},
   "source": [
    "- From the above plot, it could be observed that the higest age is between 35 years to 39 years, while the lowest population are people from age 90 years and above"
   ]
  },
  {
   "cell_type": "code",
   "execution_count": 47,
   "id": "4729218a",
   "metadata": {},
   "outputs": [
    {
     "data": {
      "text/plain": [
       "0    42\n",
       "Name: Age, dtype: int64"
      ]
     },
     "execution_count": 47,
     "metadata": {},
     "output_type": "execute_result"
    }
   ],
   "source": [
    "\n",
    "cleaned2_census10_df['Age'].mode()"
   ]
  },
  {
   "cell_type": "code",
   "execution_count": 48,
   "id": "b1a8605f",
   "metadata": {},
   "outputs": [
    {
     "data": {
      "image/png": "[encoded data removed]",
      "text/plain": [
       "<Figure size 800x500 with 1 Axes>"
      ]
     },
     "metadata": {},
     "output_type": "display_data"
    }
   ],
   "source": [
    "# Create age groups (e.g., young, adult, senior)\n",
    "bins = [0, 18, 65, cleaned2_census10_df['Age'].max()]\n",
    "labels = ['Young', 'Adult', 'Aged']\n",
    "cleaned2_census10_df['AgeGroup'] = pd.cut(cleaned2_census10_df['Age'], bins=bins, labels=labels)\n",
    "\n",
    "# Plot the distribution of age groups\n",
    "plt.figure(figsize=(8, 5))\n",
    "sns.countplot(x='AgeGroup', data=cleaned2_census10_df, palette='viridis')\n",
    "\n",
    "# Specify Age group years under each bin\n",
    "plt.title('Distribution of Age Groups')\n",
    "plt.xlabel('Age Group(Years)')\n",
    "plt.ylabel('Count')\n",
    "\n",
    "# Add age range figures under each bin\n",
    "for i, label in enumerate(labels):\n",
    "    plt.text(i, -0.5, f'{bins[i]}-{bins[i+1]}', ha='center', va='bottom', fontweight='bold')\n",
    "\n",
    "plt.show()"
   ]
  },
  {
   "cell_type": "code",
   "execution_count": 49,
   "id": "8c17d8bb",
   "metadata": {},
   "outputs": [
    {
     "name": "stdout",
     "output_type": "stream",
     "text": [
      "Adult    5100\n",
      "Young    2007\n",
      "Aged      725\n",
      "Name: AgeGroup, dtype: int64\n"
     ]
    }
   ],
   "source": [
    "# Count breakdown of each component in the 'Age Group' column\n",
    "age_group_counts = cleaned2_census10_df['AgeGroup'].value_counts()\n",
    "\n",
    "# Display the count breakdown\n",
    "print(age_group_counts)"
   ]
  },
  {
   "cell_type": "code",
   "execution_count": 50,
   "id": "d6e42e92",
   "metadata": {},
   "outputs": [
    {
     "name": "stdout",
     "output_type": "stream",
     "text": [
      "count    7910.000000\n",
      "mean       35.409608\n",
      "std        21.226112\n",
      "min         0.000000\n",
      "25%        18.000000\n",
      "50%        35.000000\n",
      "75%        51.000000\n",
      "max       105.000000\n",
      "Name: Age, dtype: float64\n",
      "T-statistic: -104.95886967460731, p-value: 0.0\n"
     ]
    }
   ],
   "source": [
    "# Statistical summary of age distribution\n",
    "print(cleaned2_census10_df['Age'].describe())\n",
    "\n",
    "# Hypothesis testing (e.g., comparing age distribution between different groups)\n",
    "from scipy.stats import ttest_ind\n",
    "\n",
    "young_age = cleaned2_census10_df[cleaned2_census10_df['AgeGroup'] == 'Young']['Age']\n",
    "adult_age = cleaned2_census10_df[cleaned2_census10_df['AgeGroup'] == 'Adult']['Age']\n",
    "\n",
    "t_stat, p_value = ttest_ind(young_age, adult_age)\n",
    "print(f'T-statistic: {t_stat}, p-value: {p_value}')"
   ]
  },
  {
   "cell_type": "markdown",
   "id": "fa962772",
   "metadata": {},
   "source": [
    "##### The next step is making a Histogram distribution plot of the 'Male'and 'Female'population accross the Age distributions"
   ]
  },
  {
   "cell_type": "code",
   "execution_count": 51,
   "id": "461cf7e9",
   "metadata": {},
   "outputs": [],
   "source": [
    "# Extracting for the Age column\n",
    "age = cleaned2_census10_df['Age'] \n",
    "\n",
    "# Extracting for the gender column\n",
    "gender = cleaned2_census10_df['Gender']  \n",
    "\n",
    "# Extracting the data for each Gender acrcross Age distribution\n",
    "ages_for_male = age[gender == 'Male'] # The ages for male\n",
    "ages_for_female = age[gender == 'Female'] #The ages for female\n",
    "\n",
    "\n",
    "\n",
    "# Determine bin width for both histograms (using the square root rule in this example)\n",
    "num_bins_male = int(np.sqrt(len(ages_for_male)))\n",
    "num_bins_female = int(np.sqrt(len(ages_for_female)))\n",
    "\n"
   ]
  },
  {
   "cell_type": "code",
   "execution_count": 52,
   "id": "65508643",
   "metadata": {},
   "outputs": [
    {
     "data": {
      "text/plain": [
       "61"
      ]
     },
     "execution_count": 52,
     "metadata": {},
     "output_type": "execute_result"
    }
   ],
   "source": [
    "num_bins_male"
   ]
  },
  {
   "cell_type": "code",
   "execution_count": 53,
   "id": "a8ecbd15",
   "metadata": {},
   "outputs": [
    {
     "data": {
      "text/plain": [
       "64"
      ]
     },
     "execution_count": 53,
     "metadata": {},
     "output_type": "execute_result"
    }
   ],
   "source": [
    "num_bins_female"
   ]
  },
  {
   "cell_type": "code",
   "execution_count": 54,
   "id": "5bd3a93a",
   "metadata": {},
   "outputs": [
    {
     "name": "stdout",
     "output_type": "stream",
     "text": [
      "The maximum age for female is: 101\n",
      "The minimum age for female is: 0\n"
     ]
    }
   ],
   "source": [
    "max_ages_for_female=cleaned2_census10_df.loc[cleaned2_census10_df['Gender'] == 'Female', 'Age'].max()\n",
    "min_ages_for_female=cleaned2_census10_df.loc[cleaned2_census10_df['Gender'] == 'Female', 'Age'].min()\n",
    "print(f\"The maximum age for female is: {max_ages_for_female}\")\n",
    "print(f\"The minimum age for female is: {min_ages_for_female}\")"
   ]
  },
  {
   "cell_type": "code",
   "execution_count": 55,
   "id": "644cccaf",
   "metadata": {},
   "outputs": [
    {
     "name": "stdout",
     "output_type": "stream",
     "text": [
      "The maximum age for male is: 105\n",
      "The minimum age for male is: 0\n"
     ]
    }
   ],
   "source": [
    "max_ages_for_male=cleaned2_census10_df.loc[cleaned2_census10_df['Gender'] == 'Male', 'Age'].max()\n",
    "min_ages_for_male=cleaned2_census10_df.loc[cleaned2_census10_df['Gender'] == 'Male', 'Age'].min()\n",
    "print(f\"The maximum age for male is: {max_ages_for_male}\")\n",
    "print(f\"The minimum age for male is: {min_ages_for_male}\")"
   ]
  },
  {
   "cell_type": "code",
   "execution_count": 56,
   "id": "87c0cf23",
   "metadata": {},
   "outputs": [],
   "source": [
    "# Calculate bin width\n",
    "bin_width_male = round(((max_ages_for_male) - (min_ages_for_male)) / num_bins_male)\n",
    "bin_width_female = round(((max_ages_for_female) - (min_ages_for_female)) / num_bins_female)\n"
   ]
  },
  {
   "cell_type": "code",
   "execution_count": 57,
   "id": "3b9351bf",
   "metadata": {},
   "outputs": [
    {
     "data": {
      "text/plain": [
       "2"
      ]
     },
     "execution_count": 57,
     "metadata": {},
     "output_type": "execute_result"
    }
   ],
   "source": [
    "bin_width_male"
   ]
  },
  {
   "cell_type": "code",
   "execution_count": 58,
   "id": "ef410403",
   "metadata": {},
   "outputs": [
    {
     "data": {
      "text/plain": [
       "2"
      ]
     },
     "execution_count": 58,
     "metadata": {},
     "output_type": "execute_result"
    }
   ],
   "source": [
    "bin_width_female"
   ]
  },
  {
   "cell_type": "code",
   "execution_count": 59,
   "id": "896c9b5c",
   "metadata": {},
   "outputs": [
    {
     "data": {
      "image/png": "[encoded data removed]",
      "text/plain": [
       "<Figure size 1200x600 with 2 Axes>"
      ]
     },
     "metadata": {},
     "output_type": "display_data"
    }
   ],
   "source": [
    "# From the calulations above, the bin width to be used is approx 2\n",
    "# The number of bin for male is 61 and number of bin for female is 64\n",
    "\n",
    "plt.figure(figsize=(12, 6))\n",
    "\n",
    "plt.subplot(1, 2, 1)\n",
    "Plot_Male_Age = plt.hist(ages_for_male, bins=num_bins_male, edgecolor='black', color='blue', alpha=0.7)\n",
    "plt.title('Plot of Male Age Distribution')\n",
    "plt.xlabel('Age(Years)')\n",
    "plt.ylabel('Count')\n",
    "\n",
    "\n",
    "Plot_Female_Age = plt.subplot(1, 2, 2)\n",
    "plt.hist(ages_for_female, bins=num_bins_female, edgecolor='black', color='pink', alpha=0.7)\n",
    "plt.title('Plot of Female Age Distribution')\n",
    "plt.xlabel('Age(Years)')\n",
    "plt.ylabel('Count')\n",
    "\n",
    "\n",
    "plt.tight_layout()\n",
    "plt.show()"
   ]
  },
  {
   "cell_type": "code",
   "execution_count": 60,
   "id": "e383912a",
   "metadata": {},
   "outputs": [
    {
     "data": {
      "image/png": "[encoded data removed]",
      "text/plain": [
       "<Figure size 640x480 with 1 Axes>"
      ]
     },
     "metadata": {},
     "output_type": "display_data"
    }
   ],
   "source": [
    "sns.histplot(data=cleaned2_census10_df, x='Age', hue='Gender', multiple='stack', bins=20)\n",
    "\n",
    "# Add labels and title\n",
    "plt.xlabel('Age(Years)')\n",
    "plt.ylabel('count')\n",
    "plt.title('Histogram of Age with Gender as Hue')\n",
    "\n",
    "# Show the plot\n",
    "plt.show()"
   ]
  },
  {
   "cell_type": "markdown",
   "id": "e69fbaaa",
   "metadata": {},
   "source": [
    "##### Age Analysis by Pyramid"
   ]
  },
  {
   "cell_type": "code",
   "execution_count": 61,
   "id": "9049ad72",
   "metadata": {},
   "outputs": [
    {
     "data": {
      "image/png": "[encoded data removed]",
      "text/plain": [
       "<Figure size 1200x600 with 2 Axes>"
      ]
     },
     "metadata": {},
     "output_type": "display_data"
    }
   ],
   "source": [
    "# Convert 'Age' column to integers\n",
    "cleaned2_census10_df['Age'] = cleaned2_census10_df['Age'].astype(int)\n",
    "\n",
    "# If you don't have 'Age_Group', create it based on 'Age'\n",
    "max_age = cleaned2_census10_df['Age'].max()\n",
    "bin_width = 5\n",
    "bins = range(0, max_age + bin_width, bin_width)\n",
    "labels = [f'{i}-{i+bin_width-1}' for i in range(0, max_age, bin_width)]\n",
    "\n",
    "cleaned2_census10_df['Age_Group'] = pd.cut(cleaned2_census10_df['Age'], bins=bins, labels=labels)\n",
    "\n",
    "# Create a count column for simplicity (using 'House Number' as a placeholder)\n",
    "cleaned2_census10_df['Count'] = 1\n",
    "\n",
    "# Separate data for Male and Female\n",
    "male_data = cleaned2_census10_df[cleaned2_census10_df['Gender'] == 'Male']\n",
    "female_data = cleaned2_census10_df[cleaned2_census10_df['Gender'] == 'Female']\n",
    "\n",
    "# Group by Age_Group and sum the counts\n",
    "male_data_grouped = male_data.groupby('Age_Group')['Count'].sum().reset_index()\n",
    "female_data_grouped = female_data.groupby('Age_Group')['Count'].sum().reset_index()\n",
    "\n",
    "# Multiply male counts by -1\n",
    "male_data_grouped['Count'] *= -1\n",
    "\n",
    "# Plotting the Age Pyramid\n",
    "fig, (ax1, ax2) = plt.subplots(1, 2, figsize=(12, 6), sharey=True)\n",
    "\n",
    "# Plot for Male\n",
    "sns.barplot(x='Count', y='Age_Group', data=male_data_grouped, color='blue', label='Male', ax=ax1)\n",
    "ax1.set_title('Male Age Pyramid')\n",
    "ax1.set_xlabel('Count')\n",
    "ax1.set_ylabel('Age Group(Years)')\n",
    "ax1.invert_yaxis()  # Invert entire plot vertically\n",
    "\n",
    "# Plot for Female\n",
    "sns.barplot(x='Count', y='Age_Group', data=female_data_grouped, color='pink', label='Female', ax=ax2)\n",
    "ax2.set_title('Female Age Pyramid')\n",
    "ax2.set_xlabel('Count')\n",
    "ax2.set_ylabel('Age Group(Years)')\n",
    "ax2.invert_yaxis()  # Invert entire plot vertically\n",
    "\n",
    "# Manually add legends\n",
    "ax1.legend()\n",
    "ax2.legend()\n",
    "\n",
    "# Remove the gap between the plots\n",
    "plt.subplots_adjust(wspace=0)\n",
    "\n",
    "# Display the plot\n",
    "plt.show()\n"
   ]
  },
  {
   "cell_type": "markdown",
   "id": "72b05fde",
   "metadata": {},
   "source": [
    "- The Age pyramid shows the age distribtions accross the Male and Fewmale population distinctively\n",
    "- From the plot, Age 35 to 39 years have the highest number of population both for the Male and Female:\n",
    "- The population of the Female within the Age of 35 to 39 years is above 350 and higher that of the Male counterpart of the same Age range is a little above than 300"
   ]
  },
  {
   "cell_type": "code",
   "execution_count": null,
   "id": "372cbadb",
   "metadata": {},
   "outputs": [],
   "source": []
  },
  {
   "cell_type": "markdown",
   "id": "f0440d6c",
   "metadata": {},
   "source": [
    "##### Boxplot analysis of Marital Status accross Ages"
   ]
  },
  {
   "cell_type": "code",
   "execution_count": 62,
   "id": "c0aca98c",
   "metadata": {},
   "outputs": [
    {
     "data": {
      "image/png": "[encoded data removed]",
      "text/plain": [
       "<Figure size 1200x800 with 1 Axes>"
      ]
     },
     "metadata": {},
     "output_type": "display_data"
    }
   ],
   "source": [
    "\n",
    "\n",
    "\n",
    "# Create a box plot using seaborn\n",
    "plt.figure(figsize=(12, 8))\n",
    "sns.boxplot(x=cleaned2_census10_df['Age'], y=cleaned2_census10_df['Marital Status'], orient='h')\n",
    "\n",
    "# Add labels and title\n",
    "plt.xlabel('Age (Years)')\n",
    "plt.ylabel('Marital Status')\n",
    "plt.title('Box Plot of Marital Status\\' Age')\n",
    "\n",
    "# Display the plot\n",
    "plt.show()\n"
   ]
  },
  {
   "cell_type": "code",
   "execution_count": 63,
   "id": "8e6705e6",
   "metadata": {},
   "outputs": [
    {
     "data": {
      "image/png": "[encoded data removed]",
      "text/plain": [
       "<Figure size 1000x600 with 1 Axes>"
      ]
     },
     "metadata": {},
     "output_type": "display_data"
    }
   ],
   "source": [
    "# Assuming your dataset has a column 'Marital Status'\n",
    "plt.figure(figsize=(10, 6))\n",
    "sns.countplot(x='Marital Status', data=cleaned2_census10_df, palette='pastel')\n",
    "plt.title('Distribution of Marital Status')\n",
    "plt.xlabel('Marital Status')\n",
    "plt.ylabel('Count')\n",
    "plt.show()\n",
    "\n",
    "plt.show()"
   ]
  },
  {
   "cell_type": "code",
   "execution_count": 64,
   "id": "7446e42b",
   "metadata": {},
   "outputs": [
    {
     "data": {
      "image/png": "[encoded data removed]",
      "text/plain": [
       "<Figure size 1000x600 with 1 Axes>"
      ]
     },
     "metadata": {},
     "output_type": "display_data"
    }
   ],
   "source": [
    "plt.figure(figsize=(10, 6))\n",
    "sns.countplot(x='Marital Status', hue='Gender', data=cleaned2_census10_df, palette='pastel')\n",
    "plt.title('Distribution of Marital Status by Gender')\n",
    "plt.xlabel('Marital Status')\n",
    "plt.ylabel('Count')\n",
    "plt.legend(title='Gender', loc='upper right', bbox_to_anchor=(1.15, 1))\n",
    "plt.show()"
   ]
  },
  {
   "cell_type": "code",
   "execution_count": 65,
   "id": "87c4760b",
   "metadata": {},
   "outputs": [
    {
     "name": "stdout",
     "output_type": "stream",
     "text": [
      "Single          2695\n",
      "Married         2232\n",
      "Single minor    1968\n",
      "Divorced         737\n",
      "Widowed          278\n",
      "Name: Marital Status, dtype: int64\n"
     ]
    }
   ],
   "source": [
    "# Count breakdown of each component in the 'Marital Status' column\n",
    "marital_status_counts = cleaned2_census10_df['Marital Status'].value_counts()\n",
    "\n",
    "# Display the count breakdown\n",
    "print(marital_status_counts)"
   ]
  },
  {
   "cell_type": "markdown",
   "id": "ff270214",
   "metadata": {},
   "source": [
    "- Single has the majority "
   ]
  },
  {
   "cell_type": "markdown",
   "id": "820f8774",
   "metadata": {},
   "source": [
    "###### Analysing for divorce count"
   ]
  },
  {
   "cell_type": "code",
   "execution_count": 66,
   "id": "94629750",
   "metadata": {},
   "outputs": [
    {
     "name": "stdout",
     "output_type": "stream",
     "text": [
      "   Gender  Count\n",
      "0  Female    452\n",
      "1    Male    285\n"
     ]
    }
   ],
   "source": [
    "# Filtering the file to include only individuals with Marital Status as Divorced\n",
    "divorced_data = cleaned2_census10_df[cleaned2_census10_df['Marital Status'] == 'Divorced']\n",
    "\n",
    "# Grouping the data by Gender and count \n",
    "divorced_gender_breakdown = divorced_data.groupby('Gender')['House Number'].count().reset_index()\n",
    "\n",
    "# Rename the columns for clarity\n",
    "divorced_gender_breakdown.columns = ['Gender', 'Count']\n",
    "\n",
    "# Print the breakdown\n",
    "print(divorced_gender_breakdown)\n"
   ]
  },
  {
   "cell_type": "markdown",
   "id": "deee45ee",
   "metadata": {},
   "source": [
    "##### Examining  the number of university students and lecturers"
   ]
  },
  {
   "cell_type": "code",
   "execution_count": 67,
   "id": "82522fd9",
   "metadata": {},
   "outputs": [
    {
     "name": "stdout",
     "output_type": "stream",
     "text": [
      "Student                                1617\n",
      "Unemployed                              471\n",
      "University Student                      454\n",
      "Child                                   449\n",
      "Retired Unemployed                       18\n",
      "                                       ... \n",
      "Retired Lecturer, further education       1\n",
      "Retired Politician's assistant            1\n",
      "Retired Oncologist                        1\n",
      "Retired Probation officer                 1\n",
      "Retired Engineer, production              1\n",
      "Name: Occupation, Length: 1038, dtype: int64\n"
     ]
    }
   ],
   "source": [
    "# Count breakdown of each component in the 'Occupation' column\n",
    "occupation_counts = cleaned2_census10_df['Occupation'].value_counts()\n",
    "\n",
    "#  count breakdown\n",
    "print(occupation_counts)"
   ]
  },
  {
   "cell_type": "code",
   "execution_count": 68,
   "id": "9ab35cf1",
   "metadata": {},
   "outputs": [
    {
     "name": "stdout",
     "output_type": "stream",
     "text": [
      "Higher education lecturer     9\n",
      "Lecturer, higher education    5\n",
      "Name: Occupation, dtype: int64\n"
     ]
    }
   ],
   "source": [
    "# Filter rows where the 'Occupation' column is either 'Higher education lecturer' or 'Lecturer, higher education'\n",
    "filtered_cleaned2_census10_df = cleaned2_census10_df[cleaned2_census10_df['Occupation'].isin(['Higher education lecturer', 'Lecturer, higher education'])]\n",
    "\n",
    "# Count the occurrences of each occupation\n",
    "occupation1_counts = filtered_cleaned2_census10_df['Occupation'].value_counts()\n",
    "\n",
    "# Print the counts\n",
    "print(occupation1_counts)"
   ]
  },
  {
   "cell_type": "markdown",
   "id": "6a9bcb4c",
   "metadata": {},
   "source": [
    "##### Analyses of Religion accross various Ages"
   ]
  },
  {
   "cell_type": "code",
   "execution_count": 69,
   "id": "55189f58",
   "metadata": {},
   "outputs": [
    {
     "data": {
      "image/png": "[encoded data removed]",
      "text/plain": [
       "<Figure size 640x480 with 1 Axes>"
      ]
     },
     "metadata": {},
     "output_type": "display_data"
    }
   ],
   "source": [
    "sns.histplot(data=cleaned2_census10_df, x='Age', hue='Religion', multiple='stack', bins=20)\n",
    "\n",
    "# Add labels and title\n",
    "plt.xlabel('Age(Years)')\n",
    "plt.ylabel('count')\n",
    "plt.title('Histogram of Age with Religion as Hue')\n",
    "\n",
    "# Show the plot\n",
    "plt.show()"
   ]
  },
  {
   "cell_type": "code",
   "execution_count": 70,
   "id": "f3dfa731",
   "metadata": {},
   "outputs": [
    {
     "data": {
      "image/png": "[encoded data removed]",
      "text/plain": [
       "<Figure size 1000x600 with 1 Axes>"
      ]
     },
     "metadata": {},
     "output_type": "display_data"
    }
   ],
   "source": [
    "# Create a boxplot with vertical x-axis labels\n",
    "plt.figure(figsize=(10, 6))\n",
    "sns.boxplot(x='Religion', y='Age', data=cleaned2_census10_df)\n",
    "plt.title('Boxplot of Age by Religion')\n",
    "plt.xlabel('Religion')\n",
    "plt.ylabel('Age')\n",
    "\n",
    "# Rotate x-axis labels vertically\n",
    "plt.xticks(rotation=90)\n",
    "\n",
    "plt.show()\n"
   ]
  },
  {
   "cell_type": "code",
   "execution_count": 71,
   "id": "bfe1c4cf",
   "metadata": {},
   "outputs": [
    {
     "name": "stdout",
     "output_type": "stream",
     "text": [
      "None         2619\n",
      "Unknown      2015\n",
      "Christian    1738\n",
      "Catholic      822\n",
      "Methodist     525\n",
      "Muslim         91\n",
      "Sikh           57\n",
      "Jewish         22\n",
      "Private        10\n",
      "Agnostic        4\n",
      "Hindu           3\n",
      "Baptist         2\n",
      "Orthodoxy       1\n",
      "Bahai           1\n",
      "Name: Religion, dtype: int64\n"
     ]
    }
   ],
   "source": [
    "# Count breakdown of each component in the 'Religion' column\n",
    "religion_counts = cleaned2_census10_df['Religion'].value_counts()\n",
    "\n",
    "# Display the count breakdown\n",
    "print(religion_counts)"
   ]
  },
  {
   "cell_type": "markdown",
   "id": "dfee36ff",
   "metadata": {},
   "source": [
    "##### Analyses of Unemployment accross various Ages and Gender"
   ]
  },
  {
   "cell_type": "code",
   "execution_count": 72,
   "id": "7d2b8742",
   "metadata": {},
   "outputs": [
    {
     "data": {
      "image/png": "[encoded data removed]",
      "text/plain": [
       "<Figure size 1200x600 with 1 Axes>"
      ]
     },
     "metadata": {},
     "output_type": "display_data"
    }
   ],
   "source": [
    "unemployed_data = cleaned2_census10_df[cleaned2_census10_df['Occupation'] == 'Unemployed']\n",
    "\n",
    "# Define bin edges\n",
    "bin_edges = [i for i in range(0, max(unemployed_data['Age']) + 5, 5)]\n",
    "\n",
    "# Plotting the histogram with specified bins\n",
    "plt.figure(figsize=(12, 6))\n",
    "plt.hist(unemployed_data['Age'], bins=bin_edges, color='skyblue', edgecolor='black', alpha=0.7)\n",
    "plt.title('Histogram of Unemployed Individuals by Age')\n",
    "plt.xlabel('Age(Years)')\n",
    "plt.ylabel('Count')\n",
    "plt.xticks(bin_edges)\n",
    "\n",
    "plt.show()\n"
   ]
  },
  {
   "cell_type": "code",
   "execution_count": 73,
   "id": "81daf78b",
   "metadata": {},
   "outputs": [
    {
     "data": {
      "image/png": "[encoded data removed]",
      "text/plain": [
       "<Figure size 1200x600 with 1 Axes>"
      ]
     },
     "metadata": {},
     "output_type": "display_data"
    }
   ],
   "source": [
    "occupation_by_age_gender = cleaned2_census10_df.groupby(['Age', 'Gender', 'Occupation']).size().unstack(fill_value=0)\n",
    "\n",
    "# Filter only unemployed individuals\n",
    "unemployed_by_age_gender = occupation_by_age_gender[occupation_by_age_gender['Unemployed'] > 0]\n",
    "\n",
    "# Select only the 'Unemployed' column\n",
    "unemployed_by_age_gender = unemployed_by_age_gender[['Unemployed']]\n",
    "\n",
    "# Reset index to make 'Age' and 'Gender' as regular columns\n",
    "unemployed_by_age_gender.reset_index(inplace=True)\n",
    "\n",
    "# Determine the minimum and maximum age in the dataset\n",
    "min_age = unemployed_by_age_gender['Age'].min()\n",
    "max_age = unemployed_by_age_gender['Age'].max()\n",
    "\n",
    "# Create age bins with intervals of 5 within the available age range\n",
    "age_bins = range(min_age, max_age + 5, 5)\n",
    "unemployed_by_age_gender['AgeGroup'] = pd.cut(unemployed_by_age_gender['Age'], bins=age_bins, right=False)\n",
    "\n",
    "# Pivot the DataFrame to have 'AgeGroup' and 'Gender' as columns\n",
    "unemployed_by_age_gender_pivot = unemployed_by_age_gender.pivot_table(index='AgeGroup', columns='Gender', values='Unemployed', aggfunc='sum', fill_value=0)\n",
    "\n",
    "# Plotting the histogram\n",
    "fig, ax = plt.subplots(figsize=(12, 6))\n",
    "width = 0.35\n",
    "\n",
    "unemployed_by_age_gender_pivot.plot(kind='bar', stacked=True, width=width, ax=ax)\n",
    "\n",
    "plt.title('Unemployment by Age and Gender')\n",
    "plt.xlabel('Age Group (Years)')\n",
    "plt.ylabel('Count')\n",
    "plt.legend(title='Gender', loc='upper right', bbox_to_anchor=(1.15, 1))\n",
    "\n",
    "plt.show()\n",
    "\n"
   ]
  },
  {
   "cell_type": "code",
   "execution_count": 74,
   "id": "19c27d25",
   "metadata": {},
   "outputs": [
    {
     "data": {
      "image/png": "[encoded data removed]",
      "text/plain": [
       "<Figure size 1200x600 with 1 Axes>"
      ]
     },
     "metadata": {},
     "output_type": "display_data"
    }
   ],
   "source": [
    "# Histogram plot\n",
    "unemployed_data = cleaned2_census10_df[cleaned2_census10_df['Occupation'] == 'Unemployed']\n",
    "\n",
    "# Define bin edges\n",
    "bin_edges = [i for i in range(0, max(unemployed_data['Age']) + 5, 5)]\n",
    "\n",
    "# Plotting the stacked histogram with specified bins, split by gender\n",
    "plt.figure(figsize=(12, 6))\n",
    "plt.hist([unemployed_data[unemployed_data['Gender'] == 'Female']['Age'],\n",
    "          unemployed_data[unemployed_data['Gender'] == 'Male']['Age']],\n",
    "         bins=bin_edges, color=['Pink', 'blue'], edgecolor='black', alpha=0.7, stacked=True, label=['Female', 'Male'])\n",
    "plt.title('Histogram of Unemployed Individuals by Age and Gender')\n",
    "plt.xlabel('Age')\n",
    "plt.ylabel('Count')\n",
    "plt.xticks(bin_edges)\n",
    "plt.legend()\n",
    "\n",
    "plt.show()\n"
   ]
  },
  {
   "cell_type": "markdown",
   "id": "a4311440",
   "metadata": {},
   "source": [
    "##### Analyzing for Occupancy level"
   ]
  },
  {
   "cell_type": "code",
   "execution_count": 75,
   "id": "f296a2a9",
   "metadata": {},
   "outputs": [
    {
     "name": "stdout",
     "output_type": "stream",
     "text": [
      "Total Population: 7910\n",
      "Total Number of Houses: 2696\n",
      "Occupancy Level (People per House): 2.93\n"
     ]
    }
   ],
   "source": [
    "# Step 1: Sum the \"Count\" column to get the total population\n",
    "total_population = cleaned2_census10_df['Count'].sum()\n",
    "\n",
    "# Step 2: Determine the total number of houses\n",
    "total_number_of_houses = cleaned2_census10_df.groupby(['House Number', 'Street']).size().reset_index(name='House Count').shape[0]\n",
    "\n",
    "# Step 3: Calculate the occupancy level\n",
    "occupancy_level = total_population / total_number_of_houses\n",
    "\n",
    "# Print the result\n",
    "print(f\"Total Population: {total_population}\")\n",
    "print(f\"Total Number of Houses: {total_number_of_houses}\")\n",
    "print(f\"Occupancy Level (People per House): {occupancy_level:.2f}\")"
   ]
  },
  {
   "cell_type": "code",
   "execution_count": 76,
   "id": "39d48001",
   "metadata": {},
   "outputs": [
    {
     "data": {
      "text/html": [
       "<div>\n",
       "<style scoped>\n",
       "    .dataframe tbody tr th:only-of-type {\n",
       "        vertical-align: middle;\n",
       "    }\n",
       "\n",
       "    .dataframe tbody tr th {\n",
       "        vertical-align: top;\n",
       "    }\n",
       "\n",
       "    .dataframe thead th {\n",
       "        text-align: right;\n",
       "    }\n",
       "</style>\n",
       "<table border=\"1\" class=\"dataframe\">\n",
       "  <thead>\n",
       "    <tr style=\"text-align: right;\">\n",
       "      <th></th>\n",
       "      <th>House Number</th>\n",
       "      <th>Street</th>\n",
       "      <th>Occupancy</th>\n",
       "    </tr>\n",
       "  </thead>\n",
       "  <tbody>\n",
       "    <tr>\n",
       "      <th>0</th>\n",
       "      <td>1</td>\n",
       "      <td>Albion Street</td>\n",
       "      <td>4</td>\n",
       "    </tr>\n",
       "    <tr>\n",
       "      <th>1</th>\n",
       "      <td>1</td>\n",
       "      <td>Anderson Castle</td>\n",
       "      <td>4</td>\n",
       "    </tr>\n",
       "    <tr>\n",
       "      <th>2</th>\n",
       "      <td>1</td>\n",
       "      <td>Appletree Avenue</td>\n",
       "      <td>1</td>\n",
       "    </tr>\n",
       "    <tr>\n",
       "      <th>3</th>\n",
       "      <td>1</td>\n",
       "      <td>Arthur Cove</td>\n",
       "      <td>1</td>\n",
       "    </tr>\n",
       "    <tr>\n",
       "      <th>4</th>\n",
       "      <td>1</td>\n",
       "      <td>Bangor Burgs</td>\n",
       "      <td>2</td>\n",
       "    </tr>\n",
       "    <tr>\n",
       "      <th>...</th>\n",
       "      <td>...</td>\n",
       "      <td>...</td>\n",
       "      <td>...</td>\n",
       "    </tr>\n",
       "    <tr>\n",
       "      <th>2691</th>\n",
       "      <td>154</td>\n",
       "      <td>Honeysuckle Avenue</td>\n",
       "      <td>3</td>\n",
       "    </tr>\n",
       "    <tr>\n",
       "      <th>2692</th>\n",
       "      <td>155</td>\n",
       "      <td>Honeysuckle Avenue</td>\n",
       "      <td>4</td>\n",
       "    </tr>\n",
       "    <tr>\n",
       "      <th>2693</th>\n",
       "      <td>156</td>\n",
       "      <td>Honeysuckle Avenue</td>\n",
       "      <td>4</td>\n",
       "    </tr>\n",
       "    <tr>\n",
       "      <th>2694</th>\n",
       "      <td>157</td>\n",
       "      <td>Honeysuckle Avenue</td>\n",
       "      <td>3</td>\n",
       "    </tr>\n",
       "    <tr>\n",
       "      <th>2695</th>\n",
       "      <td>158</td>\n",
       "      <td>Honeysuckle Avenue</td>\n",
       "      <td>3</td>\n",
       "    </tr>\n",
       "  </tbody>\n",
       "</table>\n",
       "<p>2696 rows × 3 columns</p>\n",
       "</div>"
      ],
      "text/plain": [
       "      House Number              Street  Occupancy\n",
       "0                1       Albion Street          4\n",
       "1                1     Anderson Castle          4\n",
       "2                1    Appletree Avenue          1\n",
       "3                1         Arthur Cove          1\n",
       "4                1        Bangor Burgs          2\n",
       "...            ...                 ...        ...\n",
       "2691           154  Honeysuckle Avenue          3\n",
       "2692           155  Honeysuckle Avenue          4\n",
       "2693           156  Honeysuckle Avenue          4\n",
       "2694           157  Honeysuckle Avenue          3\n",
       "2695           158  Honeysuckle Avenue          3\n",
       "\n",
       "[2696 rows x 3 columns]"
      ]
     },
     "execution_count": 76,
     "metadata": {},
     "output_type": "execute_result"
    }
   ],
   "source": [
    "occupancy_level = cleaned2_census10_df.groupby(['House Number','Street'])['First Name'].count().reset_index()\n",
    "occupancy_level.columns = ['House Number','Street', 'Occupancy']\n",
    "occupancy_level.head(7910)"
   ]
  },
  {
   "cell_type": "code",
   "execution_count": 77,
   "id": "def509b1",
   "metadata": {},
   "outputs": [
    {
     "data": {
      "text/plain": [
       "2.9339762611275964"
      ]
     },
     "execution_count": 77,
     "metadata": {},
     "output_type": "execute_result"
    }
   ],
   "source": [
    "average_occupancy = occupancy_level['Occupancy'].mean()\n",
    "average_occupancy"
   ]
  },
  {
   "cell_type": "markdown",
   "id": "aed478f6",
   "metadata": {},
   "source": [
    "###### Estimating for Birthrate"
   ]
  },
  {
   "cell_type": "code",
   "execution_count": 78,
   "id": "fc0df611",
   "metadata": {},
   "outputs": [
    {
     "name": "stdout",
     "output_type": "stream",
     "text": [
      "Count of individuals with age 0: 78\n"
     ]
    }
   ],
   "source": [
    "#Estimating for birthrate, we consider the counts with rows with Age 0 years\n",
    "age_0_counts = cleaned2_census10_df[cleaned2_census10_df['Age'] == 0].shape[0]\n",
    "\n",
    "# Print or display the count of individuals with age 0\n",
    "print(f\"Count of individuals with age 0: {age_0_counts}\")\n"
   ]
  },
  {
   "cell_type": "code",
   "execution_count": 79,
   "id": "3c7e87c5",
   "metadata": {},
   "outputs": [
    {
     "name": "stdout",
     "output_type": "stream",
     "text": [
      "Total Population: 7910\n"
     ]
    }
   ],
   "source": [
    "# Get the total number of individuals in the dataset\n",
    "total_population = cleaned2_census10_df.shape[0]\n",
    "\n",
    "# Print or display the total population\n",
    "print(f\"Total Population: {total_population}\")"
   ]
  },
  {
   "cell_type": "code",
   "execution_count": 80,
   "id": "e335c5b1",
   "metadata": {},
   "outputs": [
    {
     "name": "stdout",
     "output_type": "stream",
     "text": [
      "The Birthrate is: 9.86\n"
     ]
    }
   ],
   "source": [
    "Birthrate = (age_0_counts/total_population)*1000\n",
    "\n",
    "print(f\"The Birthrate is: {Birthrate:.2f}\")"
   ]
  },
  {
   "cell_type": "markdown",
   "id": "810512a4",
   "metadata": {},
   "source": [
    "###### Estimating for Deathrate"
   ]
  },
  {
   "cell_type": "code",
   "execution_count": 81,
   "id": "c99e4da2",
   "metadata": {},
   "outputs": [
    {
     "name": "stdout",
     "output_type": "stream",
     "text": [
      "        Age Comparison  Death Rate per Annum\n",
      "0       60-64 vs 65-69                  17.0\n",
      "1       65-69 vs 70-74                  12.8\n",
      "2       70-74 vs 75-79                  13.4\n",
      "3       75-79 vs 80-84                   8.4\n",
      "4       80-84 vs 85-89                   5.6\n",
      "5       85-89 vs 90-94                   9.8\n",
      "6       90-94 vs 95-99                   1.8\n",
      "7     95-99 vs 100-104                   0.8\n",
      "8   100-104 vs 105-109                   0.2\n",
      "9   105-109 vs 110-114                   0.2\n",
      "10               Total                  70.0\n"
     ]
    }
   ],
   "source": [
    "\n",
    "import pandas as pd\n",
    "\n",
    "def calculate_death_rates(cleaned2_census10_df):\n",
    "    # Define age brackets (customize as needed)\n",
    "    age_brackets = [(60, 64), (65, 69), (70, 74), (75, 79), (80, 84), (85, 89), (90, 94), (95, 99), (100, 104), (105, 109), (110, 114)]\n",
    " \n",
    "    # Initialize a list to store results\n",
    "    death_rates = []\n",
    " \n",
    "    # Iterate over age brackets and compute death rates\n",
    "    for i in range(len(age_brackets) - 1):\n",
    "        start_age, end_age = age_brackets[i]\n",
    "        next_age_bracket = age_brackets[i + 1]\n",
    " \n",
    "        current_age_group = cleaned2_census10_df[(cleaned2_census10_df['Age'] >= start_age) & (cleaned2_census10_df['Age'] <= end_age)]\n",
    "        next_age_group = cleaned2_census10_df[(cleaned2_census10_df['Age'] >= next_age_bracket[0]) & (cleaned2_census10_df['Age'] <= next_age_bracket[1])]\n",
    " \n",
    "        # Assume the number of people in each generation was the same when they were the same age\n",
    "        count_current_age_group = len(current_age_group)\n",
    "        count_next_age_group = len(next_age_group)\n",
    " \n",
    "        # Compute the differential over a 5-year period\n",
    "        differential = count_current_age_group - count_next_age_group\n",
    " \n",
    "        # Compute the death rate per annum (assuming a 5-year period)\n",
    "        death_rate_per_annum = differential / 5\n",
    " \n",
    "        # Store the result in the list\n",
    "        age_comparison = f'{start_age}-{end_age} vs {next_age_bracket[0]}-{next_age_bracket[1]}'\n",
    "        death_rates.append({'Age Comparison': age_comparison, 'Death Rate per Annum': death_rate_per_annum})\n",
    " \n",
    "    # Create a DataFrame from the list\n",
    "    result_cleaned2_census10_df = pd.DataFrame(death_rates)\n",
    " \n",
    "    # Calculate the total sum of death rates per annum\n",
    "    total_death_rate = result_cleaned2_census10_df['Death Rate per Annum'].sum()\n",
    "    death_rates.append({'Age Comparison': 'Total', 'Death Rate per Annum': total_death_rate})\n",
    " \n",
    "    # Create a DataFrame from the updated list\n",
    "    result_cleaned2_census10_df = pd.DataFrame(death_rates)\n",
    " \n",
    "    return result_cleaned2_census10_df\n",
    "\n",
    "# Call the function with your DataFrame 'cleaned2_census10_df'\n",
    "result_cleaned2_census10_df = calculate_death_rates(cleaned2_census10_df)\n",
    " \n",
    "# Display the result\n",
    "print(result_cleaned2_census10_df)"
   ]
  },
  {
   "cell_type": "code",
   "execution_count": 82,
   "id": "8632f5dc",
   "metadata": {},
   "outputs": [],
   "source": [
    "total_death_per_anum = 70"
   ]
  },
  {
   "cell_type": "code",
   "execution_count": 83,
   "id": "604a6cfe",
   "metadata": {},
   "outputs": [
    {
     "name": "stdout",
     "output_type": "stream",
     "text": [
      "The Deathrate is: 8.85\n"
     ]
    }
   ],
   "source": [
    "Population_death_rate = (total_death_per_anum/total_population)*1000\n",
    "print(f\"The Deathrate is: {Population_death_rate:.2f}\")"
   ]
  },
  {
   "cell_type": "markdown",
   "id": "c71e5568",
   "metadata": {},
   "source": [
    "##### Analysing for infirmity"
   ]
  },
  {
   "cell_type": "code",
   "execution_count": 84,
   "id": "72823ef1",
   "metadata": {},
   "outputs": [
    {
     "data": {
      "image/png": "[encoded data removed]",
      "text/plain": [
       "<Figure size 1200x800 with 1 Axes>"
      ]
     },
     "metadata": {},
     "output_type": "display_data"
    }
   ],
   "source": [
    "# Create a box plot using seaborn\n",
    "plt.figure(figsize=(12, 8))\n",
    "sns.boxplot(x=cleaned2_census10_df['Age'], y=cleaned2_census10_df['Infirmity'], orient='h')\n",
    "\n",
    "# Add labels and title\n",
    "plt.xlabel('Age (Years)')\n",
    "plt.ylabel('Infirmity')\n",
    "plt.title('Box Plot of Infirmity\\' Age')\n",
    "\n",
    "# Display the plot\n",
    "plt.show()"
   ]
  },
  {
   "cell_type": "code",
   "execution_count": 85,
   "id": "f0217302",
   "metadata": {},
   "outputs": [
    {
     "name": "stdout",
     "output_type": "stream",
     "text": [
      "None                   7855\n",
      "Physical Disability      22\n",
      "Unknown Infection         9\n",
      "Blind                     8\n",
      "Disabled                  8\n",
      "Deaf                      5\n",
      "Mental Disability         3\n",
      "Name: Infirmity, dtype: int64\n"
     ]
    }
   ],
   "source": [
    "# Count breakdown of each component in the 'Infirmity' column\n",
    "infirmity_counts = cleaned2_census10_df['Infirmity'].value_counts()\n",
    "\n",
    "# Display the count breakdown\n",
    "print(infirmity_counts)"
   ]
  },
  {
   "cell_type": "markdown",
   "id": "4610c015",
   "metadata": {},
   "source": [
    "###### Analysing for Emigration"
   ]
  },
  {
   "cell_type": "code",
   "execution_count": 86,
   "id": "ca056cc0",
   "metadata": {},
   "outputs": [
    {
     "name": "stdout",
     "output_type": "stream",
     "text": [
      "Count of each unique entry under 'Relationship to Head of House':\n",
      "Head                2693\n",
      "Son                 1404\n",
      "Daughter            1333\n",
      "Husband              843\n",
      "None                 459\n",
      "Lodger               354\n",
      "Wife                 271\n",
      "Partner              241\n",
      "Granddaughter         69\n",
      "Grandson              62\n",
      "Cousin                40\n",
      "Sibling               38\n",
      "Visitor               31\n",
      "Step-Son              15\n",
      "Nephew                14\n",
      "Step-Daughter         14\n",
      "Adopted Son           13\n",
      "Adopted Daughter       9\n",
      "Neice                  5\n",
      "Daughter-in-law        2\n",
      "Name: Relationship to Head of House, dtype: int64\n"
     ]
    }
   ],
   "source": [
    "# Count the occurrences of each unique entry in the 'Relationship to Head of House' column\n",
    "relationship_counts = cleaned2_census10_df['Relationship to Head of House'].value_counts()\n",
    "\n",
    "# Print the count of each unique entry\n",
    "print(\"Count of each unique entry under 'Relationship to Head of House':\")\n",
    "print(relationship_counts)\n"
   ]
  },
  {
   "cell_type": "markdown",
   "id": "fdd5433f",
   "metadata": {},
   "source": [
    "##### Estimating for those Aged 65 years and above"
   ]
  },
  {
   "cell_type": "code",
   "execution_count": 87,
   "id": "3576a74b",
   "metadata": {},
   "outputs": [
    {
     "name": "stdout",
     "output_type": "stream",
     "text": [
      "Count of individuals aged 65 and above: 780\n"
     ]
    }
   ],
   "source": [
    "\n",
    "# Count the occurrences of individuals aged 65 and above in the 'Age' column\n",
    "age_65_and_above_count = cleaned2_census10_df[cleaned2_census10_df['Age'] >= 65].shape[0]\n",
    "\n",
    "# Print the count of individuals aged 65 and above\n",
    "print(f\"Count of individuals aged 65 and above: {age_65_and_above_count}\")\n"
   ]
  },
  {
   "cell_type": "markdown",
   "id": "64fe1de1",
   "metadata": {},
   "source": [
    "##### Estimating for those Aged 20 years and below"
   ]
  },
  {
   "cell_type": "code",
   "execution_count": 88,
   "id": "0fed19ac",
   "metadata": {},
   "outputs": [
    {
     "name": "stdout",
     "output_type": "stream",
     "text": [
      "Count of individuals aged 20 and above: 2311\n"
     ]
    }
   ],
   "source": [
    "# Count the occurrences of individuals aged 65 and above in the 'Age' column\n",
    "age_20_and_below_count = cleaned2_census10_df[cleaned2_census10_df['Age'] <= 20].shape[0]\n",
    "\n",
    "# Print the count of individuals aged 20 years and below\n",
    "print(f\"Count of individuals aged 20 and above: {age_20_and_below_count}\")\n"
   ]
  },
  {
   "cell_type": "markdown",
   "id": "8984e710",
   "metadata": {},
   "source": [
    "##### Final outlook of the cleaned Data"
   ]
  },
  {
   "cell_type": "code",
   "execution_count": 89,
   "id": "b43de437",
   "metadata": {},
   "outputs": [
    {
     "data": {
      "text/html": [
       "<div>\n",
       "<style scoped>\n",
       "    .dataframe tbody tr th:only-of-type {\n",
       "        vertical-align: middle;\n",
       "    }\n",
       "\n",
       "    .dataframe tbody tr th {\n",
       "        vertical-align: top;\n",
       "    }\n",
       "\n",
       "    .dataframe thead th {\n",
       "        text-align: right;\n",
       "    }\n",
       "</style>\n",
       "<table border=\"1\" class=\"dataframe\">\n",
       "  <thead>\n",
       "    <tr style=\"text-align: right;\">\n",
       "      <th></th>\n",
       "      <th>House Number</th>\n",
       "      <th>Street</th>\n",
       "      <th>First Name</th>\n",
       "      <th>Surname</th>\n",
       "      <th>Age</th>\n",
       "      <th>Relationship to Head of House</th>\n",
       "      <th>Marital Status</th>\n",
       "      <th>Gender</th>\n",
       "      <th>Occupation</th>\n",
       "      <th>Infirmity</th>\n",
       "      <th>Religion</th>\n",
       "      <th>AgeGroup</th>\n",
       "      <th>Age_Group</th>\n",
       "      <th>Count</th>\n",
       "    </tr>\n",
       "  </thead>\n",
       "  <tbody>\n",
       "    <tr>\n",
       "      <th>0</th>\n",
       "      <td>1</td>\n",
       "      <td>Upland Creek</td>\n",
       "      <td>Ross</td>\n",
       "      <td>Barton</td>\n",
       "      <td>26</td>\n",
       "      <td>Head</td>\n",
       "      <td>Married</td>\n",
       "      <td>Male</td>\n",
       "      <td>Solicitor, Scotland</td>\n",
       "      <td>None</td>\n",
       "      <td>Christian</td>\n",
       "      <td>Adult</td>\n",
       "      <td>25-29</td>\n",
       "      <td>1</td>\n",
       "    </tr>\n",
       "    <tr>\n",
       "      <th>1</th>\n",
       "      <td>1</td>\n",
       "      <td>Upland Creek</td>\n",
       "      <td>Amelia</td>\n",
       "      <td>Barton</td>\n",
       "      <td>26</td>\n",
       "      <td>Wife</td>\n",
       "      <td>Married</td>\n",
       "      <td>Female</td>\n",
       "      <td>Lawyer</td>\n",
       "      <td>None</td>\n",
       "      <td>None</td>\n",
       "      <td>Adult</td>\n",
       "      <td>25-29</td>\n",
       "      <td>1</td>\n",
       "    </tr>\n",
       "    <tr>\n",
       "      <th>2</th>\n",
       "      <td>2</td>\n",
       "      <td>Upland Creek</td>\n",
       "      <td>Francesca</td>\n",
       "      <td>Smith</td>\n",
       "      <td>50</td>\n",
       "      <td>Head</td>\n",
       "      <td>Married</td>\n",
       "      <td>Female</td>\n",
       "      <td>Unemployed</td>\n",
       "      <td>None</td>\n",
       "      <td>None</td>\n",
       "      <td>Adult</td>\n",
       "      <td>45-49</td>\n",
       "      <td>1</td>\n",
       "    </tr>\n",
       "    <tr>\n",
       "      <th>3</th>\n",
       "      <td>2</td>\n",
       "      <td>Upland Creek</td>\n",
       "      <td>Connor</td>\n",
       "      <td>Smith</td>\n",
       "      <td>53</td>\n",
       "      <td>Husband</td>\n",
       "      <td>Married</td>\n",
       "      <td>Male</td>\n",
       "      <td>Unemployed</td>\n",
       "      <td>None</td>\n",
       "      <td>None</td>\n",
       "      <td>Adult</td>\n",
       "      <td>50-54</td>\n",
       "      <td>1</td>\n",
       "    </tr>\n",
       "    <tr>\n",
       "      <th>4</th>\n",
       "      <td>2</td>\n",
       "      <td>Upland Creek</td>\n",
       "      <td>Jacob</td>\n",
       "      <td>Smith</td>\n",
       "      <td>15</td>\n",
       "      <td>Adopted Son</td>\n",
       "      <td>Single minor</td>\n",
       "      <td>Male</td>\n",
       "      <td>Student</td>\n",
       "      <td>None</td>\n",
       "      <td>Unknown</td>\n",
       "      <td>Young</td>\n",
       "      <td>10-14</td>\n",
       "      <td>1</td>\n",
       "    </tr>\n",
       "  </tbody>\n",
       "</table>\n",
       "</div>"
      ],
      "text/plain": [
       "   House Number        Street First Name Surname  Age  \\\n",
       "0             1  Upland Creek       Ross  Barton   26   \n",
       "1             1  Upland Creek     Amelia  Barton   26   \n",
       "2             2  Upland Creek  Francesca   Smith   50   \n",
       "3             2  Upland Creek     Connor   Smith   53   \n",
       "4             2  Upland Creek      Jacob   Smith   15   \n",
       "\n",
       "  Relationship to Head of House Marital Status  Gender           Occupation  \\\n",
       "0                          Head        Married    Male  Solicitor, Scotland   \n",
       "1                          Wife        Married  Female               Lawyer   \n",
       "2                          Head        Married  Female           Unemployed   \n",
       "3                       Husband        Married    Male           Unemployed   \n",
       "4                   Adopted Son   Single minor    Male              Student   \n",
       "\n",
       "  Infirmity   Religion AgeGroup Age_Group  Count  \n",
       "0      None  Christian    Adult     25-29      1  \n",
       "1      None       None    Adult     25-29      1  \n",
       "2      None       None    Adult     45-49      1  \n",
       "3      None       None    Adult     50-54      1  \n",
       "4      None    Unknown    Young     10-14      1  "
      ]
     },
     "execution_count": 89,
     "metadata": {},
     "output_type": "execute_result"
    }
   ],
   "source": [
    "cleaned2_census10_df.head()"
   ]
  },
  {
   "cell_type": "code",
   "execution_count": 90,
   "id": "66d144d8",
   "metadata": {},
   "outputs": [
    {
     "data": {
      "text/html": [
       "<div>\n",
       "<style scoped>\n",
       "    .dataframe tbody tr th:only-of-type {\n",
       "        vertical-align: middle;\n",
       "    }\n",
       "\n",
       "    .dataframe tbody tr th {\n",
       "        vertical-align: top;\n",
       "    }\n",
       "\n",
       "    .dataframe thead th {\n",
       "        text-align: right;\n",
       "    }\n",
       "</style>\n",
       "<table border=\"1\" class=\"dataframe\">\n",
       "  <thead>\n",
       "    <tr style=\"text-align: right;\">\n",
       "      <th></th>\n",
       "      <th>House Number</th>\n",
       "      <th>Street</th>\n",
       "      <th>First Name</th>\n",
       "      <th>Surname</th>\n",
       "      <th>Age</th>\n",
       "      <th>Relationship to Head of House</th>\n",
       "      <th>Marital Status</th>\n",
       "      <th>Gender</th>\n",
       "      <th>Occupation</th>\n",
       "      <th>Infirmity</th>\n",
       "      <th>Religion</th>\n",
       "      <th>AgeGroup</th>\n",
       "      <th>Age_Group</th>\n",
       "      <th>Count</th>\n",
       "    </tr>\n",
       "  </thead>\n",
       "  <tbody>\n",
       "    <tr>\n",
       "      <th>7905</th>\n",
       "      <td>1</td>\n",
       "      <td>Murphy Fortress</td>\n",
       "      <td>Sophie</td>\n",
       "      <td>Collier</td>\n",
       "      <td>7</td>\n",
       "      <td>Daughter</td>\n",
       "      <td>Single minor</td>\n",
       "      <td>Female</td>\n",
       "      <td>Student</td>\n",
       "      <td>None</td>\n",
       "      <td>Unknown</td>\n",
       "      <td>Young</td>\n",
       "      <td>5-9</td>\n",
       "      <td>1</td>\n",
       "    </tr>\n",
       "    <tr>\n",
       "      <th>7906</th>\n",
       "      <td>1</td>\n",
       "      <td>Murphy Fortress</td>\n",
       "      <td>Paul</td>\n",
       "      <td>Collier</td>\n",
       "      <td>7</td>\n",
       "      <td>Son</td>\n",
       "      <td>Single minor</td>\n",
       "      <td>Male</td>\n",
       "      <td>Student</td>\n",
       "      <td>None</td>\n",
       "      <td>Unknown</td>\n",
       "      <td>Young</td>\n",
       "      <td>5-9</td>\n",
       "      <td>1</td>\n",
       "    </tr>\n",
       "    <tr>\n",
       "      <th>7907</th>\n",
       "      <td>1</td>\n",
       "      <td>Murphy Fortress</td>\n",
       "      <td>Rhys</td>\n",
       "      <td>Collier</td>\n",
       "      <td>3</td>\n",
       "      <td>Son</td>\n",
       "      <td>Single minor</td>\n",
       "      <td>Male</td>\n",
       "      <td>Child</td>\n",
       "      <td>None</td>\n",
       "      <td>Unknown</td>\n",
       "      <td>Young</td>\n",
       "      <td>0-4</td>\n",
       "      <td>1</td>\n",
       "    </tr>\n",
       "    <tr>\n",
       "      <th>7908</th>\n",
       "      <td>1</td>\n",
       "      <td>Murphy Fortress</td>\n",
       "      <td>Jeffrey</td>\n",
       "      <td>Short</td>\n",
       "      <td>58</td>\n",
       "      <td>Visitor</td>\n",
       "      <td>Divorced</td>\n",
       "      <td>Male</td>\n",
       "      <td>Engineer, automotive</td>\n",
       "      <td>None</td>\n",
       "      <td>None</td>\n",
       "      <td>Adult</td>\n",
       "      <td>55-59</td>\n",
       "      <td>1</td>\n",
       "    </tr>\n",
       "    <tr>\n",
       "      <th>7909</th>\n",
       "      <td>1</td>\n",
       "      <td>Murphy Fortress</td>\n",
       "      <td>Carl</td>\n",
       "      <td>Johnson</td>\n",
       "      <td>52</td>\n",
       "      <td>Lodger</td>\n",
       "      <td>Divorced</td>\n",
       "      <td>Male</td>\n",
       "      <td>Medical sales representative</td>\n",
       "      <td>None</td>\n",
       "      <td>Christian</td>\n",
       "      <td>Adult</td>\n",
       "      <td>50-54</td>\n",
       "      <td>1</td>\n",
       "    </tr>\n",
       "  </tbody>\n",
       "</table>\n",
       "</div>"
      ],
      "text/plain": [
       "      House Number           Street First Name  Surname  Age  \\\n",
       "7905             1  Murphy Fortress     Sophie  Collier    7   \n",
       "7906             1  Murphy Fortress       Paul  Collier    7   \n",
       "7907             1  Murphy Fortress       Rhys  Collier    3   \n",
       "7908             1  Murphy Fortress    Jeffrey    Short   58   \n",
       "7909             1  Murphy Fortress       Carl  Johnson   52   \n",
       "\n",
       "     Relationship to Head of House Marital Status  Gender  \\\n",
       "7905                      Daughter   Single minor  Female   \n",
       "7906                           Son   Single minor    Male   \n",
       "7907                           Son   Single minor    Male   \n",
       "7908                       Visitor       Divorced    Male   \n",
       "7909                        Lodger       Divorced    Male   \n",
       "\n",
       "                        Occupation Infirmity   Religion AgeGroup Age_Group  \\\n",
       "7905                       Student      None    Unknown    Young       5-9   \n",
       "7906                       Student      None    Unknown    Young       5-9   \n",
       "7907                         Child      None    Unknown    Young       0-4   \n",
       "7908          Engineer, automotive      None       None    Adult     55-59   \n",
       "7909  Medical sales representative      None  Christian    Adult     50-54   \n",
       "\n",
       "      Count  \n",
       "7905      1  \n",
       "7906      1  \n",
       "7907      1  \n",
       "7908      1  \n",
       "7909      1  "
      ]
     },
     "execution_count": 90,
     "metadata": {},
     "output_type": "execute_result"
    }
   ],
   "source": [
    "cleaned2_census10_df.tail()"
   ]
  },
  {
   "cell_type": "markdown",
   "id": "05b872f0",
   "metadata": {},
   "source": [
    "##### Final outlook-cleaned Data"
   ]
  },
  {
   "cell_type": "code",
   "execution_count": 91,
   "id": "7c1c0feb",
   "metadata": {},
   "outputs": [
    {
     "name": "stdout",
     "output_type": "stream",
     "text": [
      "<class 'pandas.core.frame.DataFrame'>\n",
      "RangeIndex: 7910 entries, 0 to 7909\n",
      "Data columns (total 14 columns):\n",
      " #   Column                         Non-Null Count  Dtype   \n",
      "---  ------                         --------------  -----   \n",
      " 0   House Number                   7910 non-null   int64   \n",
      " 1   Street                         7910 non-null   object  \n",
      " 2   First Name                     7910 non-null   object  \n",
      " 3   Surname                        7910 non-null   object  \n",
      " 4   Age                            7910 non-null   int32   \n",
      " 5   Relationship to Head of House  7910 non-null   object  \n",
      " 6   Marital Status                 7910 non-null   object  \n",
      " 7   Gender                         7910 non-null   object  \n",
      " 8   Occupation                     7910 non-null   object  \n",
      " 9   Infirmity                      7910 non-null   object  \n",
      " 10  Religion                       7910 non-null   object  \n",
      " 11  AgeGroup                       7832 non-null   category\n",
      " 12  Age_Group                      7832 non-null   category\n",
      " 13  Count                          7910 non-null   int64   \n",
      "dtypes: category(2), int32(1), int64(2), object(9)\n",
      "memory usage: 727.1+ KB\n"
     ]
    }
   ],
   "source": [
    "cleaned2_census10_df.info()"
   ]
  },
  {
   "cell_type": "markdown",
   "id": "7cefd0d2",
   "metadata": {},
   "source": [
    "###### Profile Report"
   ]
  },
  {
   "cell_type": "code",
   "execution_count": 92,
   "id": "d9a4b887",
   "metadata": {},
   "outputs": [
    {
     "name": "stderr",
     "output_type": "stream",
     "text": [
      "C:\\Program Files\\Python311\\Lib\\site-packages\\numba\\core\\decorators.py:262: NumbaDeprecationWarning: \u001b[1mnumba.generated_jit is deprecated. Please see the documentation at: https://numba.readthedocs.io/en/stable/reference/deprecation.html#deprecation-of-generated-jit for more information and advice on a suitable replacement.\u001b[0m\n",
      "  warnings.warn(msg, NumbaDeprecationWarning)\n",
      "C:\\Program Files\\Python311\\Lib\\site-packages\\visions\\backends\\shared\\nan_handling.py:50: NumbaDeprecationWarning: \u001b[1mThe 'nopython' keyword argument was not supplied to the 'numba.jit' decorator. The implicit default value for this argument is currently False, but it will be changed to True in Numba 0.59.0. See https://numba.readthedocs.io/en/stable/reference/deprecation.html#deprecation-of-object-mode-fall-back-behaviour-when-using-jit for details.\u001b[0m\n",
      "  @nb.jit\n",
      "C:\\Users\\746195\\AppData\\Local\\Temp\\ipykernel_12304\\2381924783.py:2: DeprecationWarning: `import pandas_profiling` is going to be deprecated by April 1st. Please use `import ydata_profiling` instead.\n",
      "  from pandas_profiling import ProfileReport\n"
     ]
    }
   ],
   "source": [
    "import pandas as pd\n",
    "from pandas_profiling import ProfileReport\n"
   ]
  },
  {
   "cell_type": "code",
   "execution_count": 93,
   "id": "c419d09f",
   "metadata": {},
   "outputs": [
    {
     "data": {
      "application/vnd.jupyter.widget-view+json": {
       "model_id": "f6c04e6ede124546bdef25b3edc38c95",
       "version_major": 2,
       "version_minor": 0
      },
      "text/plain": [
       "Summarize dataset:   0%|          | 0/5 [00:00<?, ?it/s]"
      ]
     },
     "metadata": {},
     "output_type": "display_data"
    },
    {
     "data": {
      "application/vnd.jupyter.widget-view+json": {
       "model_id": "29dfce7bf74545339eb9b4a846fa9bdc",
       "version_major": 2,
       "version_minor": 0
      },
      "text/plain": [
       "Generate report structure:   0%|          | 0/1 [00:00<?, ?it/s]"
      ]
     },
     "metadata": {},
     "output_type": "display_data"
    },
    {
     "data": {
      "application/vnd.jupyter.widget-view+json": {
       "model_id": "22a3d101a4b0414889042dbffe586565",
       "version_major": 2,
       "version_minor": 0
      },
      "text/plain": [
       "Render HTML:   0%|          | 0/1 [00:00<?, ?it/s]"
      ]
     },
     "metadata": {},
     "output_type": "display_data"
    },
    {
     "data": {
      "application/vnd.jupyter.widget-view+json": {
       "model_id": "341b0af51d3a45db850368b5b5776672",
       "version_major": 2,
       "version_minor": 0
      },
      "text/plain": [
       "Export report to file:   0%|          | 0/1 [00:00<?, ?it/s]"
      ]
     },
     "metadata": {},
     "output_type": "display_data"
    }
   ],
   "source": [
    "# Generate a profile report\n",
    "profile = ProfileReport(cleaned2_census10_df, title='Pandas Profiling Report', explorative=True)\n",
    "\n",
    "# Save the report as html file\n",
    "profile.to_file(\"profile_report.html\")\n"
   ]
  },
  {
   "cell_type": "code",
   "execution_count": null,
   "id": "9e4100bc",
   "metadata": {},
   "outputs": [],
   "source": []
  },
  {
   "cell_type": "code",
   "execution_count": null,
   "id": "f247d2a2",
   "metadata": {},
   "outputs": [],
   "source": []
  }
 ],
 "metadata": {
  "kernelspec": {
   "display_name": "Python 3 (ipykernel)",
   "language": "python",
   "name": "python3"
  },
  "language_info": {
   "codemirror_mode": {
    "name": "ipython",
    "version": 3
   },
   "file_extension": ".py",
   "mimetype": "text/x-python",
   "name": "python",
   "nbconvert_exporter": "python",
   "pygments_lexer": "ipython3",
   "version": "3.11.3"
  }
 },
 "nbformat": 4,
 "nbformat_minor": 5
}
